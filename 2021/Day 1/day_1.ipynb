{
 "cells": [
  {
   "cell_type": "code",
   "execution_count": 64,
   "metadata": {
    "collapsed": true,
    "jupyter": {
     "outputs_hidden": true
    },
    "pycharm": {
     "name": "#%%\n"
    }
   },
   "outputs": [],
   "source": [
    "from os import path\n",
    "\n",
    "num_list = list()\n",
    "\n",
    "with open(path.join(globals()['_dh'][0], \"input.txt\")) as f:\n",
    "    num_list = [int(x.strip()) for x in f.readlines()]\n",
    "\n",
    "num_list_test = list()\n",
    "with open(path.join(globals()['_dh'][0], \"test.txt\")) as f:\n",
    "    num_list_test = [int(x.strip()) for x in f.readlines()]"
   ]
  },
  {
   "cell_type": "code",
   "execution_count": 65,
   "metadata": {
    "collapsed": false,
    "jupyter": {
     "outputs_hidden": false
    },
    "pycharm": {
     "name": "#%%\n"
    }
   },
   "outputs": [],
   "source": [
    "def part1(nums):\n",
    "    return sum([1 for i in range(1, len(nums)) if nums[i] > nums[i - 1]])"
   ]
  },
  {
   "cell_type": "code",
   "execution_count": 66,
   "metadata": {
    "collapsed": false,
    "jupyter": {
     "outputs_hidden": false
    },
    "pycharm": {
     "name": "#%%\n"
    }
   },
   "outputs": [],
   "source": [
    "def part2(nums):\n",
    "    in_windows = [sum(nums[i: i+3]) for i in range(0, len(nums) - 2)]\n",
    "\n",
    "    return part1(in_windows)"
   ]
  },
  {
   "cell_type": "code",
   "execution_count": 67,
   "metadata": {
    "collapsed": false,
    "jupyter": {
     "outputs_hidden": false
    },
    "pycharm": {
     "name": "#%%\n"
    }
   },
   "outputs": [
    {
     "name": "stdout",
     "output_type": "stream",
     "text": [
      "Solution to part 1 is 1301\n",
      "Solution to part 2 is 1346\n"
     ]
    }
   ],
   "source": [
    "print(f\"Solution to part 1 is {part1(num_list)}\")\n",
    "print(f\"Solution to part 2 is {part2(num_list)}\")"
   ]
  }
 ],
 "metadata": {
  "kernelspec": {
   "display_name": "Python 3 (ipykernel)",
   "language": "python",
   "name": "python3"
  },
  "language_info": {
   "codemirror_mode": {
    "name": "ipython",
    "version": 3
   },
   "file_extension": ".py",
   "mimetype": "text/x-python",
   "name": "python",
   "nbconvert_exporter": "python",
   "pygments_lexer": "ipython3",
   "version": "3.10.8"
  }
 },
 "nbformat": 4,
 "nbformat_minor": 4
}
