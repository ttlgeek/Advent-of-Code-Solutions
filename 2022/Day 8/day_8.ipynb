{
 "cells": [
  {
   "cell_type": "code",
   "execution_count": 402,
   "id": "a1f0c748-8fb7-4669-bd89-17275a55a047",
   "metadata": {},
   "outputs": [],
   "source": [
    "from os import path\n",
    "from collections import defaultdict\n",
    "from functools import reduce\n",
    "\n",
    "trees = list()\n",
    "\n",
    "with open(path.join(globals()['_dh'][0], \"input.txt\")) as f:\n",
    "    trees = [x.strip() for x in f.readlines()]\n",
    "\n",
    "trees_test = list()\n",
    "with open(path.join(globals()['_dh'][0], \"test.txt\")) as f:\n",
    "   trees_test = [x.strip() for x in f.readlines()]"
   ]
  },
  {
   "cell_type": "code",
   "execution_count": 10,
   "id": "e09192d5-aba7-406d-acf1-3292b72bd5cc",
   "metadata": {},
   "outputs": [],
   "source": [
    "def to_matrix(input_trees):\n",
    "    return [list(t) for t in input_trees]"
   ]
  },
  {
   "cell_type": "code",
   "execution_count": 47,
   "id": "ac433014-639c-4c80-ae45-5c204420f1c1",
   "metadata": {},
   "outputs": [],
   "source": [
    "def map_trees(input_trees):\n",
    "    tree_hights = defaultdict(int)\n",
    "    mapped_trees = list()\n",
    "    \n",
    "    index = 0\n",
    "    \n",
    "    for row in input_trees:\n",
    "        mapped = list()\n",
    "        for tree_hight in row:\n",
    "            tree_hights[index] = int(tree_hight)\n",
    "            mapped.append(index)\n",
    "            index += 1\n",
    "        mapped_trees.append(mapped)\n",
    "    \n",
    "    return tree_hights, mapped_trees"
   ]
  },
  {
   "cell_type": "code",
   "execution_count": 16,
   "id": "641871b4-a66a-4c13-9b06-e31a3e4e4751",
   "metadata": {},
   "outputs": [],
   "source": [
    "def rotate_matrix(trees_matrix):\n",
    "    return [[trees_matrix[j][i] for j in range(len(trees_matrix))] for i in range(len(trees_matrix[0])-1,-1,-1)]"
   ]
  },
  {
   "cell_type": "code",
   "execution_count": 111,
   "id": "d9b74394-6cc9-4c0f-a264-077366bf5a00",
   "metadata": {},
   "outputs": [],
   "source": [
    "def part1(input_trees):\n",
    "    trees_matrix = to_matrix(input_trees)\n",
    "\n",
    "    tree_hights, mapped_trees = map_trees(input_trees)\n",
    "    \n",
    "    visible_trees = set()\n",
    "    \n",
    "    current_view = mapped_trees\n",
    "    for _ in range(4):\n",
    "        for row in current_view:\n",
    "            view_line = [tree_hights[row[0]]]\n",
    "            for idx, tree in enumerate(row):\n",
    "                tree_hight = tree_hights[tree]\n",
    "                if tree_hight > view_line[-1] or idx == 0 or idx == len(row) - 1: \n",
    "                    visible_trees.add(tree)\n",
    "                    view_line.append(tree_hight)\n",
    "        current_view = rotate_matrix(current_view)\n",
    "    \n",
    "    return len(visible_trees)"
   ]
  },
  {
   "cell_type": "code",
   "execution_count": 429,
   "id": "3071b265-6722-4fee-9f21-b018a037e302",
   "metadata": {},
   "outputs": [],
   "source": [
    "def part2(input_trees):\n",
    "    trees_matrix = to_matrix(input_trees)\n",
    "\n",
    "    tree_hights, mapped_trees = map_trees(input_trees)\n",
    "\n",
    "    tree_view_lines = defaultdict(set)\n",
    "\n",
    "    current_view = mapped_trees\n",
    "    for _ in range(4):\n",
    "        for row in current_view:\n",
    "            for tree in row:\n",
    "                tree_view_lines[tree].add(tuple(row))\n",
    "        \n",
    "        current_view = rotate_matrix(current_view)\n",
    "        \n",
    "    result = 0\n",
    "    \n",
    "    for tree, views in tree_view_lines.items():\n",
    "        scenic_score = list()\n",
    "\n",
    "        for view in views:\n",
    "            \n",
    "            tree_line = [int(x) for x in view.split(',')]\n",
    "            tree_index = tree_line.index(tree)\n",
    "\n",
    "            left_view = tree_line[:tree_index][::-1]\n",
    "            right_view = tree_line[tree_index + 1:]\n",
    "            \n",
    "            visible_trees = 0\n",
    "            for t in left_view:\n",
    "                if tree_hights[t] >= tree_hights[tree]:\n",
    "                    visible_trees += 1\n",
    "                    break\n",
    "                else:\n",
    "                    visible_trees += 1\n",
    "\n",
    "            scenic_score.append(visible_trees)\n",
    "            visible_trees = 0\n",
    "\n",
    "            for t in right_view:\n",
    "                if tree_hights[t] >= tree_hights[tree]:\n",
    "                    visible_trees += 1\n",
    "                    break\n",
    "                else: \n",
    "                    visible_trees += 1\n",
    "            \n",
    "            scenic_score.append(visible_trees)\n",
    "            \n",
    "        result = max(result, reduce(lambda a, b: a*b, scenic_score, 1))\n",
    "    return result"
   ]
  },
  {
   "cell_type": "code",
   "execution_count": 430,
   "id": "40f5f1ef-2a71-4566-9f83-156596699574",
   "metadata": {},
   "outputs": [
    {
     "name": "stdout",
     "output_type": "stream",
     "text": [
      "Solution to part 1 is 1647\n",
      "Solution to part 2 is 392080\n"
     ]
    }
   ],
   "source": [
    "print(f\"Solution to part 1 is {part1(trees)}\")\n",
    "print(f\"Solution to part 2 is {part2(trees)}\")"
   ]
  }
 ],
 "metadata": {
  "kernelspec": {
   "display_name": "Python 3 (ipykernel)",
   "language": "python",
   "name": "python3"
  },
  "language_info": {
   "codemirror_mode": {
    "name": "ipython",
    "version": 3
   },
   "file_extension": ".py",
   "mimetype": "text/x-python",
   "name": "python",
   "nbconvert_exporter": "python",
   "pygments_lexer": "ipython3",
   "version": "3.11.1"
  }
 },
 "nbformat": 4,
 "nbformat_minor": 5
}
