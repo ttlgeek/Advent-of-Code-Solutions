{
 "cells": [
  {
   "cell_type": "code",
   "execution_count": 821,
   "outputs": [],
   "source": [
    "from os import path\n",
    "\n",
    "full_input = dict()\n",
    "with open(path.join(globals()['_dh'][0], \"input.txt\")) as f:\n",
    "    lines = [x.strip() for x in f.readlines() if len(x.strip()) > 0]\n",
    "    draws = [int(x) for x in lines[0].split(',')]\n",
    "    lines = lines[1:]\n",
    "    boards = [lines[i:i + 5] for i in range(0, len(lines), 5)]\n",
    "\n",
    "    full_input['draws'] = draws\n",
    "    full_input['boards'] = boards\n",
    "\n",
    "test_input = dict()\n",
    "with open(path.join(globals()['_dh'][0], \"test.txt\")) as f:\n",
    "    lines = [x.strip() for x in f.readlines() if len(x.strip()) > 0]\n",
    "    draws = [int(x) for x in lines[0].split(',')]\n",
    "    lines = lines[1:]\n",
    "    boards = [lines[i:i + 5] for i in range(0, len(lines), 5)]\n",
    "\n",
    "    test_input['draws'] = draws\n",
    "    test_input['boards'] = boards"
   ],
   "metadata": {
    "collapsed": false,
    "pycharm": {
     "name": "#%%\n"
    }
   }
  },
  {
   "cell_type": "code",
   "execution_count": 822,
   "outputs": [],
   "source": [
    "class Cell:\n",
    "    _marked = False\n",
    "    value = None\n",
    "\n",
    "    def __init__(self, value):\n",
    "        self.value = value\n",
    "\n",
    "    def set_marked(self):\n",
    "        self._marked = True\n",
    "\n",
    "    def is_marked(self):\n",
    "        return self._marked\n",
    "\n",
    "\n",
    "class Board:\n",
    "    N = 5\n",
    "\n",
    "    def __init__(self, board_list):\n",
    "        self.rows = dict()\n",
    "        self.columns = dict()\n",
    "        self.cells = dict()\n",
    "        rows = [[int(x.strip()) for x in row.split()] for row in board_list]\n",
    "\n",
    "        self.cells = {x: Cell(x) for row in rows for x in row}\n",
    "\n",
    "        for row in rows:\n",
    "            key = ' '.join([str(x) for x in row])\n",
    "            value = [self.cells[x] for x in row]\n",
    "            self.rows[key] = value\n",
    "\n",
    "        for i in range(self.N):\n",
    "            column = []\n",
    "            for row in self.rows.keys():\n",
    "                column.append(row.split()[i])\n",
    "            self.columns[' '.join(column)] = [self.cells[int(x)] for x in column]\n",
    "\n",
    "    def mark_cell(self, value):\n",
    "        if value in self.cells: self.cells[value].set_marked()\n",
    "\n",
    "    def _has_winning_row(self):\n",
    "        for row, cells in self.rows.items():\n",
    "            marked_cells = [1 if c.is_marked() else 0 for c in cells]\n",
    "            if sum(marked_cells) == self.N: return True\n",
    "\n",
    "        return False\n",
    "\n",
    "    def _has_winning_column(self):\n",
    "        for column, cells in self.columns.items():\n",
    "            marked_cells = [1 if c.is_marked() else 0 for c in cells]\n",
    "            if sum(marked_cells) == self.N: return True\n",
    "\n",
    "        return False\n",
    "\n",
    "    def is_winning_board(self):\n",
    "        return self._has_winning_column() or self._has_winning_row()\n",
    "\n",
    "    def print_board(self):\n",
    "        rows = []\n",
    "        for row in self.rows.keys():\n",
    "            split = row.split()\n",
    "            values = []\n",
    "            for x in split:\n",
    "                value = '*' if self.cells[int(x)].is_marked() else x\n",
    "                values.append(value)\n",
    "            rows.append(' '.join(values))\n",
    "        print('\\n'.join(rows))\n",
    "        print()\n",
    "\n",
    "    def get_board_score(self):\n",
    "        return sum([c.value for c in list(filter(lambda x: not x.is_marked(), self.cells.values()))])"
   ],
   "metadata": {
    "collapsed": false,
    "pycharm": {
     "name": "#%%\n"
    }
   }
  },
  {
   "cell_type": "code",
   "execution_count": 823,
   "outputs": [],
   "source": [
    "def part1(draws, boards):\n",
    "    board_objects = [Board(board) for board in boards]\n",
    "    for n in draws:\n",
    "        for board in board_objects:\n",
    "            board.mark_cell(n)\n",
    "        winning_boards = list(filter(lambda x: x.is_winning_board(), board_objects))\n",
    "        if len(winning_boards) > 0:\n",
    "            return n * winning_boards[0].get_board_score()"
   ],
   "metadata": {
    "collapsed": false,
    "pycharm": {
     "name": "#%%\n"
    }
   }
  },
  {
   "cell_type": "code",
   "execution_count": 824,
   "outputs": [],
   "source": [
    "def part2(draws, boards):\n",
    "    board_objects = {Board(board): False for board in boards}\n",
    "    for n in draws:\n",
    "        boards_to_mark = [board for board, is_winner in board_objects.items() if not is_winner]\n",
    "        for board in boards_to_mark:\n",
    "            board.mark_cell(n)\n",
    "            if board.is_winning_board(): board_objects[board] = True\n",
    "        if len(boards_to_mark) == 1:\n",
    "            return n * boards_to_mark[0].get_board_score()"
   ],
   "metadata": {
    "collapsed": false,
    "pycharm": {
     "name": "#%%\n"
    }
   }
  },
  {
   "cell_type": "code",
   "execution_count": 825,
   "outputs": [
    {
     "name": "stdout",
     "output_type": "stream",
     "text": [
      "Solution to part 1 is 6592\n",
      "Solution to part 2 is 31755\n"
     ]
    }
   ],
   "source": [
    "draws = full_input['draws']\n",
    "boards = full_input['boards']\n",
    "\n",
    "print(f\"Solution to part 1 is {part1(draws, boards)}\")\n",
    "print(f\"Solution to part 2 is {part2(draws, boards)}\")"
   ],
   "metadata": {
    "collapsed": false,
    "pycharm": {
     "name": "#%%\n"
    }
   }
  }
 ],
 "metadata": {
  "kernelspec": {
   "display_name": "Python 3",
   "language": "python",
   "name": "python3"
  },
  "language_info": {
   "codemirror_mode": {
    "name": "ipython",
    "version": 2
   },
   "file_extension": ".py",
   "mimetype": "text/x-python",
   "name": "python",
   "nbconvert_exporter": "python",
   "pygments_lexer": "ipython2",
   "version": "2.7.6"
  }
 },
 "nbformat": 4,
 "nbformat_minor": 0
}