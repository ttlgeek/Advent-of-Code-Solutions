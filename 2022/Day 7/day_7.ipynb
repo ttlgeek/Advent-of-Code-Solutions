{
 "cells": [
  {
   "cell_type": "code",
   "execution_count": 348,
   "id": "db6df45a-b39c-4ce9-8fd2-69e8abfc25b3",
   "metadata": {},
   "outputs": [],
   "source": [
    "from os import path\n",
    "from collections import defaultdict\n",
    "import parse\n",
    "\n",
    "stdout = list()\n",
    "\n",
    "with open(path.join(globals()['_dh'][0], \"input.txt\")) as f:\n",
    "    stdout = [x.strip() for x in f.readlines()]\n",
    "\n",
    "stdout_test = list()\n",
    "with open(path.join(globals()['_dh'][0], \"test.txt\")) as f:\n",
    "   stdout_test = [x.strip() for x in f.readlines()]"
   ]
  },
  {
   "cell_type": "code",
   "execution_count": 35,
   "id": "d5f45648-01ac-47b5-92a5-081ce2b74ce2",
   "metadata": {},
   "outputs": [],
   "source": [
    "LIST = 'ls'\n",
    "CHANGE_DIRECTORY = 'cd'\n",
    "\n",
    "command_template = parse.compile('$ {command}')"
   ]
  },
  {
   "cell_type": "code",
   "execution_count": 10,
   "id": "8122133f-06be-4e8b-b045-e8fbd52a5e47",
   "metadata": {
    "tags": []
   },
   "outputs": [],
   "source": [
    "def is_command(command_string):\n",
    "    return '$' == command_string[0]"
   ]
  },
  {
   "cell_type": "code",
   "execution_count": 56,
   "id": "5a9cf845-6509-4f76-b6d4-28d136c3b68e",
   "metadata": {},
   "outputs": [],
   "source": [
    "def parse_command(line):\n",
    "    raw_command = command_template.parse(line)['command'].split()\n",
    "\n",
    "    command, args = tuple(raw_command if len(raw_command) == 2 else [raw_command[0], None])\n",
    "\n",
    "    return command, args"
   ]
  },
  {
   "cell_type": "code",
   "execution_count": 155,
   "id": "a0df2e99-4d88-457a-9d3a-b9d45819b6eb",
   "metadata": {},
   "outputs": [],
   "source": [
    "def parse_content(line):\n",
    "    size, filename = line.split()\n",
    "    \n",
    "    return size, filename"
   ]
  },
  {
   "cell_type": "code",
   "execution_count": 426,
   "id": "48a7a0a3-3545-4fd6-b643-d5a017ae6e3f",
   "metadata": {},
   "outputs": [],
   "source": [
    "def parse_stdout(stdout):\n",
    "    directory_stack = list()\n",
    "    \n",
    "    directory_map = defaultdict(set)\n",
    "    \n",
    "    for line in stdout:\n",
    "        depth_index = len(directory_stack)\n",
    "        if is_command(line):\n",
    "            command, args = parse_command(line)\n",
    "\n",
    "            if args == '..':\n",
    "                directory_stack.pop()\n",
    "            elif not args: continue\n",
    "            else:\n",
    "                directory_stack.append(args)\n",
    "        else:\n",
    "            size, filename = parse_content(line)\n",
    "            \n",
    "            current_dir = directory_stack[-1]\n",
    "            parent_dir = directory_stack[-2] if len(directory_stack) > 1 else None\n",
    "            directory_map[((parent_dir, depth_index - 1), depth_index, current_dir)].add((size == 'dir', (current_dir, depth_index), size, (depth_index, filename)))\n",
    "\n",
    "    return directory_map"
   ]
  },
  {
   "cell_type": "code",
   "execution_count": 343,
   "id": "299a8129-cca4-4a41-ba0f-e83731fc9089",
   "metadata": {},
   "outputs": [],
   "source": [
    "def get_directory_size(directory, directory_map):\n",
    "    result = 0\n",
    "    for file in directory_map[directory]:\n",
    "        is_directory, origin, size, filename = file\n",
    "\n",
    "        if is_directory:\n",
    "            result += get_directory_size((origin, origin[1] + 1, filename[1]), directory_map)\n",
    "        else:\n",
    "            result += int(size)\n",
    "    \n",
    "    return result"
   ]
  },
  {
   "cell_type": "code",
   "execution_count": 336,
   "id": "698a8f34-4471-425d-a412-1c3ac2b1cead",
   "metadata": {},
   "outputs": [],
   "source": [
    "def print_structure(directory, directory_map):\n",
    "    for file in directory_map[directory]:\n",
    "        is_directory, origin, size, filename = file\n",
    "\n",
    "        if is_directory:\n",
    "            print(f\"{'  ' * filename[0]}- {filename[1]} (dir)\")\n",
    "            print_structure((origin, origin[1] + 1, filename[1]), directory_map)\n",
    "        else:\n",
    "            print(f\"{'  ' * filename[0]}- {filename[1]} (file, size={size})\")"
   ]
  },
  {
   "cell_type": "code",
   "execution_count": 423,
   "id": "8cf84f70-d5e7-4077-9cdc-ecb8218d943c",
   "metadata": {},
   "outputs": [],
   "source": [
    "def part1(stdout):\n",
    "    directory_map = parse_stdout(stdout)\n",
    "\n",
    "    directory_sizes = [get_directory_size(directory, directory_map) for directory in list(directory_map.keys())]\n",
    "\n",
    "    return sum([size for size in directory_sizes if size <= 100000])"
   ]
  },
  {
   "cell_type": "code",
   "execution_count": 421,
   "id": "23ef48a5-18bc-4ebf-91bb-ab69a0f3d850",
   "metadata": {},
   "outputs": [],
   "source": [
    "def part2(stdout):\n",
    "    directory_map = parse_stdout(stdout)\n",
    "\n",
    "    directory_sizes = [get_directory_size(directory, directory_map) for directory in list(directory_map.keys())]\n",
    "    directory_sizes.sort()\n",
    "    directory_sizes = directory_sizes[::-1]\n",
    "    \n",
    "    free_space = 70000000 - directory_sizes[0]\n",
    "    space_needed = 30000000 - free_space\n",
    "\n",
    "    return min([x for x in directory_sizes[1:] if x >= space_needed])\n"
   ]
  },
  {
   "cell_type": "code",
   "execution_count": 422,
   "id": "6e0bf0f0-955a-4c50-a887-e633e79fd37d",
   "metadata": {},
   "outputs": [
    {
     "name": "stdout",
     "output_type": "stream",
     "text": [
      "Solution to part 1 is 2031851\n",
      "Solution to part 2 is 2568781\n"
     ]
    }
   ],
   "source": [
    "print(f\"Solution to part 1 is {part1(stdout)}\")\n",
    "print(f\"Solution to part 2 is {part2(stdout)}\")"
   ]
  }
 ],
 "metadata": {
  "kernelspec": {
   "display_name": "Python 3 (ipykernel)",
   "language": "python",
   "name": "python3"
  },
  "language_info": {
   "codemirror_mode": {
    "name": "ipython",
    "version": 3
   },
   "file_extension": ".py",
   "mimetype": "text/x-python",
   "name": "python",
   "nbconvert_exporter": "python",
   "pygments_lexer": "ipython3",
   "version": "3.11.1"
  }
 },
 "nbformat": 4,
 "nbformat_minor": 5
}
