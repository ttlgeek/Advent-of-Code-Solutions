{
 "cells": [
  {
   "cell_type": "code",
   "execution_count": null,
   "metadata": {
    "collapsed": true,
    "pycharm": {
     "is_executing": true
    }
   },
   "outputs": [],
   "source": [
    "from os import path\n",
    "from statistics import median\n",
    "\n",
    "num_list = list()\n",
    "\n",
    "with open(path.join(globals()['_dh'][0], \"input.txt\")) as f:\n",
    "    num_list = [int(x.strip()) for y in f.readlines() for x in y.split(',')]\n",
    "\n",
    "num_list_test = list()\n",
    "with open(path.join(globals()['_dh'][0], \"test.txt\")) as f:\n",
    "    num_list_test = [int(x.strip()) for y in f.readlines() for x in y.split(',')]"
   ]
  },
  {
   "cell_type": "code",
   "execution_count": 62,
   "outputs": [],
   "source": [
    "def part1(nums):\n",
    "    final_position = int(median(sorted(nums)))\n",
    "\n",
    "    return sum([abs(x - final_position) for x in nums])"
   ],
   "metadata": {
    "collapsed": false
   }
  },
  {
   "cell_type": "code",
   "execution_count": 63,
   "outputs": [
    {
     "name": "stdout",
     "output_type": "stream",
     "text": [
      "Solution to part 1 is 352997\n"
     ]
    }
   ],
   "source": [
    "print(f\"Solution to part 1 is {part1(num_list)}\")"
   ],
   "metadata": {
    "collapsed": false
   }
  }
 ],
 "metadata": {
  "kernelspec": {
   "display_name": "Python 3",
   "language": "python",
   "name": "python3"
  },
  "language_info": {
   "codemirror_mode": {
    "name": "ipython",
    "version": 2
   },
   "file_extension": ".py",
   "mimetype": "text/x-python",
   "name": "python",
   "nbconvert_exporter": "python",
   "pygments_lexer": "ipython2",
   "version": "2.7.6"
  }
 },
 "nbformat": 4,
 "nbformat_minor": 0
}
