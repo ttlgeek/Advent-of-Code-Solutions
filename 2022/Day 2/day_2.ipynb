{
 "cells": [
  {
   "cell_type": "code",
   "execution_count": 2,
   "id": "3c7d738e-f0d1-436a-93bb-9927b61baed8",
   "metadata": {},
   "outputs": [],
   "source": [
    "from os import path\n",
    "from itertools import groupby\n",
    "from functools import reduce\n",
    "\n",
    "instructions = list()\n",
    "\n",
    "with open(path.join(globals()['_dh'][0], \"input.txt\")) as f:\n",
    "    instructions = [x.strip() for x in f.readlines()]\n",
    "\n",
    "instructions_test = list()\n",
    "with open(path.join(globals()['_dh'][0], \"test.txt\")) as f:\n",
    "    instructions_test = [x.strip() for x in f.readlines()]"
   ]
  },
  {
   "cell_type": "code",
   "execution_count": 6,
   "id": "840fcf5c-f7e1-4657-aa04-fea808da2d13",
   "metadata": {},
   "outputs": [],
   "source": [
    "hands = {\n",
    "    'A': 'R', # R for Rock\n",
    "    'B': 'P', # P for Paper\n",
    "    'C': 'S', # S for Scissors\n",
    "    \n",
    "    'X': 'R', # R for Rock\n",
    "    'Y': 'P', # P for Paper\n",
    "    'Z': 'S', # S for Scissors\n",
    "}"
   ]
  },
  {
   "cell_type": "code",
   "execution_count": 55,
   "id": "572a4a76-8c16-4ef6-b31a-78b40511d5f9",
   "metadata": {},
   "outputs": [],
   "source": [
    "winning_pairings = {\n",
    "    ('R', 'S'): 1,\n",
    "    ('S', 'P'): 1,\n",
    "    ('P', 'R'): 1\n",
    "}"
   ]
  },
  {
   "cell_type": "code",
   "execution_count": 30,
   "id": "5a550d25-35c3-4581-983b-b5647a28a5a2",
   "metadata": {},
   "outputs": [],
   "source": [
    "hand_scores = {\n",
    "    'R': 1,\n",
    "    'P': 2,\n",
    "    'S': 3\n",
    "}"
   ]
  },
  {
   "cell_type": "code",
   "execution_count": 56,
   "id": "8cc6af71-f05a-4afe-a552-5848103b6286",
   "metadata": {
    "tags": []
   },
   "outputs": [],
   "source": [
    "def part1(input_list):\n",
    "    score = 0\n",
    "    \n",
    "    for turn in input_list:\n",
    "        raw_opponent_hand, raw_hand  = turn.split(' ')\n",
    "        hand, opponent_hand = hands[raw_hand], hands[raw_opponent_hand]\n",
    "\n",
    "        if hand == opponent_hand: # draw\n",
    "            score += hand_scores[hand] + 3\n",
    "        elif (hand, opponent_hand) not in winning_pairings: # lost\n",
    "            score += hand_scores[hand]\n",
    "        else:\n",
    "            score += hand_scores[hand] + 6 # won\n",
    "    return score"
   ]
  },
  {
   "cell_type": "code",
   "execution_count": 53,
   "id": "d405fb63-021e-4bec-bd40-67e70982afb8",
   "metadata": {},
   "outputs": [],
   "source": [
    "round_results = {\n",
    "    'X': 0, # X for Lost\n",
    "    'Y': 3, # Y for Draw\n",
    "    'Z': 6, # Z for Won\n",
    "}"
   ]
  },
  {
   "cell_type": "code",
   "execution_count": 64,
   "id": "bfd975d6-a407-4272-b19e-0861308a9603",
   "metadata": {},
   "outputs": [],
   "source": [
    "losing_pairings = {\n",
    "    'R': 'S',\n",
    "    'S': 'P',\n",
    "    'P': 'R',\n",
    "}"
   ]
  },
  {
   "cell_type": "code",
   "execution_count": 114,
   "id": "81c92d0e-898c-445d-91f0-8bc260fcf440",
   "metadata": {},
   "outputs": [],
   "source": [
    "def part2(input_list):\n",
    "    score = 0\n",
    "    \n",
    "    for turn in input_list:\n",
    "        raw_opponent_hand, expected_result  = turn.split(' ')\n",
    "        opponent_hand = hands[raw_opponent_hand]\n",
    "        if expected_result == 'X':\n",
    "            hand = losing_pairings[opponent_hand]\n",
    "            print(hand)\n",
    "            score += hand_scores[hand]\n",
    "        elif expected_result == 'Y':\n",
    "            score += hand_scores[opponent_hand] + round_results[expected_result]\n",
    "        elif expected_result == 'Z':\n",
    "            hand = [k for k, v in winning_pairings.items() if k[1] == opponent_hand][0][0]\n",
    "            score += hand_scores[hand] + round_results[expected_result]\n",
    "\n",
    "    return score"
   ]
  },
  {
   "cell_type": "code",
   "execution_count": 115,
   "id": "4a83d70c-c5bf-48a9-9e2d-36f5dd337c39",
   "metadata": {},
   "outputs": [
    {
     "name": "stdout",
     "output_type": "stream",
     "text": [
      "Solution to part 1 is 13809\n",
      "S\n",
      "Solution to part 2 is 14\n"
     ]
    }
   ],
   "source": [
    "print(f\"Solution to part 1 is {part1(instructions)}\")\n",
    "print(f\"Solution to part 2 is {part2(instructions_test)}\")"
   ]
  },
  {
   "cell_type": "code",
   "execution_count": null,
   "id": "259dc46d-3a17-465b-9a25-ca8e27090fda",
   "metadata": {},
   "outputs": [],
   "source": []
  }
 ],
 "metadata": {
  "kernelspec": {
   "display_name": "Python 3 (ipykernel)",
   "language": "python",
   "name": "python3"
  },
  "language_info": {
   "codemirror_mode": {
    "name": "ipython",
    "version": 3
   },
   "file_extension": ".py",
   "mimetype": "text/x-python",
   "name": "python",
   "nbconvert_exporter": "python",
   "pygments_lexer": "ipython3",
   "version": "3.10.8"
  }
 },
 "nbformat": 4,
 "nbformat_minor": 5
}
