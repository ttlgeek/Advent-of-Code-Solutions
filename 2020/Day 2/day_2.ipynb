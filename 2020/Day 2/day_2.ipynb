{
 "cells": [
  {
   "cell_type": "code",
   "execution_count": 22,
   "metadata": {},
   "outputs": [],
   "source": [
    "from os import path\n",
    "from collections import defaultdict"
   ]
  },
  {
   "cell_type": "code",
   "execution_count": 5,
   "metadata": {},
   "outputs": [],
   "source": [
    "password_list = list()\n",
    "\n",
    "with open(path.join(globals()['_dh'][0], \"input.txt\")) as f:\n",
    "    password_list = [x.strip() for x in f.readlines()]\n",
    "\n",
    "password_list_test = list()\n",
    "with open(path.join(globals()['_dh'][0], \"test.txt\")) as f:\n",
    "    password_list_test = [x.strip() for x in f.readlines()]"
   ]
  },
  {
   "cell_type": "code",
   "execution_count": 28,
   "metadata": {},
   "outputs": [],
   "source": [
    "def check_valid_passwords1(password_list: list) -> int:\n",
    "    valid_count = 0\n",
    "    for password in password_list:\n",
    "        rule, letter, password = password.split()\n",
    "        letter = letter[:-1]\n",
    "        min_count, max_count = [int(num) for num in rule.split(\"-\")]\n",
    "        \n",
    "        letter_map = defaultdict(int)\n",
    "        for c in password:\n",
    "            letter_map[c] += 1\n",
    "        \n",
    "        if letter_map[letter] <= max_count and letter_map[letter] >= min_count:\n",
    "            valid_count += 1\n",
    "    \n",
    "    return valid_count"
   ]
  },
  {
   "cell_type": "code",
   "execution_count": 30,
   "metadata": {},
   "outputs": [
    {
     "name": "stdout",
     "output_type": "stream",
     "text": [
      "Part 1 answer is: 454\n"
     ]
    }
   ],
   "source": [
    "print(f\"Part 1 answer is: {check_valid_passwords1(password_list)}\")"
   ]
  },
  {
   "cell_type": "code",
   "execution_count": 48,
   "metadata": {},
   "outputs": [],
   "source": [
    "def check_valid_passwords2(password_list: list) -> int:\n",
    "    valid_count = 0\n",
    "    for password in password_list:\n",
    "        password_is_valid = False\n",
    "        rule, letter, password = password.split()\n",
    "        letter = letter[:-1]\n",
    "        pos1, pos2 = [int(num) for num in rule.split(\"-\")]\n",
    "        \n",
    "        letter_map = defaultdict(list)\n",
    "        found_letter = False\n",
    "        for i in range(len(password)):\n",
    "            c = password[i]\n",
    "            if c == letter:\n",
    "                if i == (pos1 - 1) or i == (pos2 - 1):\n",
    "                    if not found_letter:\n",
    "                        found_letter = True\n",
    "                        password_is_valid = True\n",
    "                    elif found_letter:\n",
    "                        password_is_valid = False\n",
    "                        break\n",
    "        \n",
    "        if password_is_valid:\n",
    "            valid_count += 1\n",
    "        \n",
    "    return valid_count"
   ]
  },
  {
   "cell_type": "code",
   "execution_count": 49,
   "metadata": {},
   "outputs": [
    {
     "name": "stdout",
     "output_type": "stream",
     "text": [
      "Part 2 answer is: 649\n"
     ]
    }
   ],
   "source": [
    "print(f\"Part 2 answer is: {check_valid_passwords2(password_list)}\")"
   ]
  }
 ],
 "metadata": {
  "kernelspec": {
   "display_name": "Python 3",
   "language": "python",
   "name": "python3"
  },
  "language_info": {
   "codemirror_mode": {
    "name": "ipython",
    "version": 3
   },
   "file_extension": ".py",
   "mimetype": "text/x-python",
   "name": "python",
   "nbconvert_exporter": "python",
   "pygments_lexer": "ipython3",
   "version": "3.9.0"
  }
 },
 "nbformat": 4,
 "nbformat_minor": 4
}
