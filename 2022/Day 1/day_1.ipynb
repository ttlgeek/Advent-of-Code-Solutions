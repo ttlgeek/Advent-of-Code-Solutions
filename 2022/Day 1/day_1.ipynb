{
 "cells": [
  {
   "cell_type": "code",
   "execution_count": 49,
   "id": "3c7d738e-f0d1-436a-93bb-9927b61baed8",
   "metadata": {},
   "outputs": [],
   "source": [
    "from os import path\n",
    "from itertools import groupby\n",
    "from functools import reduce\n",
    "\n",
    "num_list = list()\n",
    "\n",
    "with open(path.join(globals()['_dh'][0], \"input.txt\")) as f:\n",
    "    num_list = [x.strip() for x in f.readlines()]\n",
    "\n",
    "num_list_test = list()\n",
    "with open(path.join(globals()['_dh'][0], \"test.txt\")) as f:\n",
    "    num_list_test = [x.strip() for x in f.readlines()]"
   ]
  },
  {
   "cell_type": "code",
   "execution_count": 100,
   "id": "4439a7b1-5160-4988-b240-5c71a14cd00e",
   "metadata": {},
   "outputs": [],
   "source": [
    "def parse_input(input_list):\n",
    "    grouped = [list(g) for k,g in groupby(input_list, lambda s: s == '') if not k]\n",
    "    return [[int(x) for x in k] for k in grouped]"
   ]
  },
  {
   "cell_type": "code",
   "execution_count": 97,
   "id": "8cc6af71-f05a-4afe-a552-5848103b6286",
   "metadata": {},
   "outputs": [],
   "source": [
    "def part1(input_list):\n",
    "    parsed = parse_input(input_list)\n",
    "    return reduce(lambda a, b: [max(sum(a), sum(b))], parsed)[0]"
   ]
  },
  {
   "cell_type": "code",
   "execution_count": 117,
   "id": "a8273a97-fee5-4f7f-9523-784d2eaf79a1",
   "metadata": {},
   "outputs": [],
   "source": [
    "def part2(input_list):\n",
    "    parsed = parse_input(input_list)\n",
    "    return sum(sorted([sum(x) for x in parsed], reverse=True)[:3])"
   ]
  },
  {
   "cell_type": "code",
   "execution_count": 119,
   "id": "4a83d70c-c5bf-48a9-9e2d-36f5dd337c39",
   "metadata": {},
   "outputs": [
    {
     "name": "stdout",
     "output_type": "stream",
     "text": [
      "Solution to part 1 is 69693\n",
      "Solution to part 2 is 200945\n"
     ]
    }
   ],
   "source": [
    "print(f\"Solution to part 1 is {part1(num_list)}\")\n",
    "print(f\"Solution to part 2 is {part2(num_list)}\")"
   ]
  }
 ],
 "metadata": {
  "kernelspec": {
   "display_name": "Python 3 (ipykernel)",
   "language": "python",
   "name": "python3"
  },
  "language_info": {
   "codemirror_mode": {
    "name": "ipython",
    "version": 3
   },
   "file_extension": ".py",
   "mimetype": "text/x-python",
   "name": "python",
   "nbconvert_exporter": "python",
   "pygments_lexer": "ipython3",
   "version": "3.10.8"
  }
 },
 "nbformat": 4,
 "nbformat_minor": 5
}
