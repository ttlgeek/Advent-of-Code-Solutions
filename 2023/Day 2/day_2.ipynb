{
 "cells": [
  {
   "cell_type": "code",
   "execution_count": 35,
   "id": "17b707f2-24fd-482a-847b-7cb1d04c087f",
   "metadata": {},
   "outputs": [],
   "source": [
    "from collections import defaultdict\n",
    "from itertools import groupby\n",
    "from functools import reduce\n",
    "from os import path\n",
    "import parse\n",
    "\n",
    "instructions = list()\n",
    "\n",
    "with open(path.join(globals()['_dh'][0], \"input.txt\")) as f:\n",
    "    instructions = [x.strip() for x in f.readlines()]\n",
    "\n",
    "instructions_test = list()\n",
    "with open(path.join(globals()['_dh'][0], \"test.txt\")) as f:\n",
    "    instructions_test = [x.strip() for x in f.readlines()]"
   ]
  },
  {
   "cell_type": "code",
   "execution_count": 24,
   "id": "22edd73a-d552-4c24-84ab-25c226ab7182",
   "metadata": {},
   "outputs": [],
   "source": [
    "game_pattern = parse.compile('Game {gameNumber}: {draw_result}')\n",
    "color_count_pattern = parse.compile('{count} {color}')"
   ]
  },
  {
   "cell_type": "code",
   "execution_count": 59,
   "id": "22a4b5e1-5359-4974-97c3-bfd95290d95d",
   "metadata": {},
   "outputs": [],
   "source": [
    "def parse_draw(draw):\n",
    "    parsed = color_count_pattern.parse(draw)\n",
    "    return parsed['color'], int(parsed['count'])"
   ]
  },
  {
   "cell_type": "code",
   "execution_count": 97,
   "id": "7e34cbbd-7de2-41ba-819c-18555091ed14",
   "metadata": {},
   "outputs": [],
   "source": [
    "def parse_game(line):\n",
    "    parsed = game_pattern.parse(line)\n",
    "    game_number = int(parsed['gameNumber'])\n",
    "    draw_result = parsed['draw_result']\n",
    "\n",
    "    game_result = defaultdict(int)\n",
    "\n",
    "    for draw in draw_result.split(';'):\n",
    "        draw = draw.strip()\n",
    "        for color_count in draw.split(','):\n",
    "            color_count = color_count.strip()\n",
    "            color, count = parse_draw(color_count)\n",
    "\n",
    "            game_result[color] = max(count, game_result[color])\n",
    "\n",
    "    return game_number, game_result"
   ]
  },
  {
   "cell_type": "code",
   "execution_count": 102,
   "id": "7db6acb4-145c-4311-9317-fcd438a0c3be",
   "metadata": {},
   "outputs": [],
   "source": [
    "ref = {\n",
    "    \"red\": 12,\n",
    "    \"green\": 13,\n",
    "    \"blue\": 14\n",
    "}\n",
    "\n",
    "def part1(input_list):\n",
    "    result = 0\n",
    "    \n",
    "    for line in input_list:\n",
    "        game_number, bag_contents = parse_game(line)\n",
    "\n",
    "        ref_possible_for_game = True\n",
    "\n",
    "        for color, count in ref.items():\n",
    "            if bag_contents[color] > count:\n",
    "                ref_possible_for_game = False\n",
    "                break\n",
    "\n",
    "        if ref_possible_for_game:\n",
    "            result += game_number\n",
    "\n",
    "    return result"
   ]
  },
  {
   "cell_type": "code",
   "execution_count": 110,
   "id": "3fc7ceba-fd76-427f-8613-5d9ca98bb81f",
   "metadata": {},
   "outputs": [],
   "source": [
    "def part2(input_list):\n",
    "    result = 0\n",
    "    \n",
    "    for line in input_list:\n",
    "        game_number, bag_contents = parse_game(line)\n",
    "\n",
    "        powers = reduce(lambda x, value:x * value, bag_contents.values(), 1)\n",
    "\n",
    "        result += sum(powers)\n",
    "\n",
    "    return result"
   ]
  },
  {
   "cell_type": "code",
   "execution_count": 111,
   "id": "aed8ebe4-51a0-4383-9a81-4fbad02ff911",
   "metadata": {},
   "outputs": [
    {
     "name": "stdout",
     "output_type": "stream",
     "text": [
      "Solution to part 1 is : 2879\n"
     ]
    },
    {
     "ename": "TypeError",
     "evalue": "'int' object is not iterable",
     "output_type": "error",
     "traceback": [
      "\u001b[0;31m---------------------------------------------------------------------------\u001b[0m",
      "\u001b[0;31mTypeError\u001b[0m                                 Traceback (most recent call last)",
      "Cell \u001b[0;32mIn[111], line 2\u001b[0m\n\u001b[1;32m      1\u001b[0m \u001b[38;5;28mprint\u001b[39m(\u001b[38;5;124mf\u001b[39m\u001b[38;5;124m\"\u001b[39m\u001b[38;5;124mSolution to part 1 is : \u001b[39m\u001b[38;5;132;01m{\u001b[39;00mpart1(instructions)\u001b[38;5;132;01m}\u001b[39;00m\u001b[38;5;124m\"\u001b[39m)\n\u001b[0;32m----> 2\u001b[0m \u001b[38;5;28mprint\u001b[39m(\u001b[38;5;124mf\u001b[39m\u001b[38;5;124m\"\u001b[39m\u001b[38;5;124mSolution to part 2 is : \u001b[39m\u001b[38;5;132;01m{\u001b[39;00m\u001b[43mpart2\u001b[49m\u001b[43m(\u001b[49m\u001b[43minstructions_test\u001b[49m\u001b[43m)\u001b[49m\u001b[38;5;132;01m}\u001b[39;00m\u001b[38;5;124m\"\u001b[39m)\n",
      "Cell \u001b[0;32mIn[110], line 9\u001b[0m, in \u001b[0;36mpart2\u001b[0;34m(input_list)\u001b[0m\n\u001b[1;32m      5\u001b[0m     game_number, bag_contents \u001b[38;5;241m=\u001b[39m parse_game(line)\n\u001b[1;32m      7\u001b[0m     powers \u001b[38;5;241m=\u001b[39m reduce(\u001b[38;5;28;01mlambda\u001b[39;00m x, value:x \u001b[38;5;241m*\u001b[39m value, bag_contents\u001b[38;5;241m.\u001b[39mvalues(), \u001b[38;5;241m1\u001b[39m)\n\u001b[0;32m----> 9\u001b[0m     result \u001b[38;5;241m+\u001b[39m\u001b[38;5;241m=\u001b[39m \u001b[38;5;28;43msum\u001b[39;49m\u001b[43m(\u001b[49m\u001b[43mpowers\u001b[49m\u001b[43m)\u001b[49m\n\u001b[1;32m     11\u001b[0m \u001b[38;5;28;01mreturn\u001b[39;00m result\n",
      "\u001b[0;31mTypeError\u001b[0m: 'int' object is not iterable"
     ]
    }
   ],
   "source": [
    "print(f\"Solution to part 1 is : {part1(instructions)}\")\n",
    "print(f\"Solution to part 2 is : {part2(instructions_test)}\")"
   ]
  }
 ],
 "metadata": {
  "kernelspec": {
   "display_name": "Python 3 (ipykernel)",
   "language": "python",
   "name": "python3"
  },
  "language_info": {
   "codemirror_mode": {
    "name": "ipython",
    "version": 3
   },
   "file_extension": ".py",
   "mimetype": "text/x-python",
   "name": "python",
   "nbconvert_exporter": "python",
   "pygments_lexer": "ipython3",
   "version": "3.12.0"
  }
 },
 "nbformat": 4,
 "nbformat_minor": 5
}
