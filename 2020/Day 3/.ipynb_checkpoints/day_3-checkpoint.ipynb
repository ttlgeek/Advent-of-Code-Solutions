{
 "cells": [
  {
   "cell_type": "code",
   "execution_count": 1,
   "metadata": {},
   "outputs": [],
   "source": [
    "from os import path"
   ]
  },
  {
   "cell_type": "code",
   "execution_count": 3,
   "metadata": {},
   "outputs": [],
   "source": [
    "trees_map = list()\n",
    "\n",
    "with open(path.join(globals()['_dh'][0], \"input.txt\")) as f:\n",
    "    trees_map = [x.strip() for x in f.readlines()]\n",
    "\n",
    "trees_map_test = list()\n",
    "with open(path.join(globals()['_dh'][0], \"test.txt\")) as f:\n",
    "    trees_map_test = [x.strip() for x in f.readlines()]"
   ]
  },
  {
   "cell_type": "code",
   "execution_count": 42,
   "metadata": {},
   "outputs": [],
   "source": [
    "def encountered_trees_count(trees_map: list, slope: list):\n",
    "    TREE = '#'\n",
    "    EMPTY = '.'\n",
    "    \n",
    "    x, y = 0, 0\n",
    "    d_up, d_right, d_down, d_left = slope\n",
    "    encountered_trees = 0\n",
    "\n",
    "    while y < len(trees_map):\n",
    "        if(trees_map[y][x]) == TREE:\n",
    "            encountered_trees += 1\n",
    "\n",
    "        x = (x + d_right) % len(trees_map[0])\n",
    "        x = (x + d_left) % len(trees_map[0])\n",
    "        \n",
    "        y += d_up\n",
    "        y += d_down\n",
    "    \n",
    "    return encountered_trees"
   ]
  },
  {
   "cell_type": "code",
   "execution_count": 50,
   "metadata": {},
   "outputs": [
    {
     "name": "stdout",
     "output_type": "stream",
     "text": [
      "Part 1 answer is: 250\n"
     ]
    }
   ],
   "source": [
    "print(f\"Part 1 answer is: {encountered_trees_count(trees_map, [0, 3, 1, 0])}\")"
   ]
  },
  {
   "cell_type": "code",
   "execution_count": 52,
   "metadata": {},
   "outputs": [],
   "source": [
    "count1 = encountered_trees_count(trees_map, [0, 1, 1, 0])\n",
    "count2 = encountered_trees_count(trees_map, [0, 3, 1, 0])\n",
    "count3 = encountered_trees_count(trees_map, [0, 5, 1, 0])\n",
    "count4 = encountered_trees_count(trees_map, [0, 7, 1, 0])\n",
    "count5 = encountered_trees_count(trees_map, [0, 1, 2, 0])"
   ]
  },
  {
   "cell_type": "code",
   "execution_count": 53,
   "metadata": {},
   "outputs": [
    {
     "name": "stdout",
     "output_type": "stream",
     "text": [
      "Part 2 answer is: 1592662500\n"
     ]
    }
   ],
   "source": [
    "print(f\"Part 2 answer is: {count1 * count2 * count3 * count4 * count5}\")"
   ]
  }
 ],
 "metadata": {
  "kernelspec": {
   "display_name": "Python 3",
   "language": "python",
   "name": "python3"
  },
  "language_info": {
   "codemirror_mode": {
    "name": "ipython",
    "version": 3
   },
   "file_extension": ".py",
   "mimetype": "text/x-python",
   "name": "python",
   "nbconvert_exporter": "python",
   "pygments_lexer": "ipython3",
   "version": "3.9.0"
  }
 },
 "nbformat": 4,
 "nbformat_minor": 4
}
