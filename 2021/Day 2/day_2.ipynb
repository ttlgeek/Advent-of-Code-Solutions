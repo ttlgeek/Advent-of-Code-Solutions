{
 "cells": [
  {
   "cell_type": "code",
   "execution_count": 80,
   "metadata": {
    "collapsed": true
   },
   "outputs": [],
   "source": [
    "from os import path\n",
    "from multipledispatch import dispatch\n",
    "\n",
    "num_list = list()\n",
    "\n",
    "with open(path.join(globals()['_dh'][0], \"input.txt\")) as f:\n",
    "    num_list = [x.strip() for x in f.readlines()]\n",
    "\n",
    "num_list_test = list()\n",
    "with open(path.join(globals()['_dh'][0], \"test.txt\")) as f:\n",
    "    num_list_test = [x.strip() for x in f.readlines()]"
   ]
  },
  {
   "cell_type": "code",
   "execution_count": 81,
   "outputs": [],
   "source": [
    "@dispatch(int, int, int)\n",
    "def forward(x, y, delta):\n",
    "    return x + delta, y\n",
    "\n",
    "@dispatch(int, int, int)\n",
    "def dive(x, y, delta):\n",
    "    return x, y + delta\n",
    "\n",
    "@dispatch(int, int, int)\n",
    "def rise(x, y, delta):\n",
    "    return x, y - delta\n",
    "\n",
    "command_mappings = {\n",
    "    \"forward\": forward,\n",
    "    \"down\": dive,\n",
    "    \"up\": rise,\n",
    "}\n",
    "\n",
    "def part1(commands):\n",
    "    x, y = 0, 0\n",
    "\n",
    "    for command_line in commands:\n",
    "        command, delta = command_line.split()\n",
    "        x, y = command_mappings[command](x, y, int(delta))\n",
    "\n",
    "    return x * y"
   ],
   "metadata": {
    "collapsed": false,
    "pycharm": {
     "name": "#%%\n"
    }
   }
  },
  {
   "cell_type": "code",
   "execution_count": 82,
   "outputs": [],
   "source": [
    "@dispatch(int, int, int, int)\n",
    "def forward(x, y, delta, aim):\n",
    "    return x + delta, y + delta * aim, aim\n",
    "\n",
    "@dispatch(int, int, int, int)\n",
    "def dive(x, y, delta, aim):\n",
    "    return x, y, aim + delta\n",
    "\n",
    "@dispatch(int, int, int, int)\n",
    "def rise(x, y, delta, aim):\n",
    "    return x, y, aim - delta\n",
    "\n",
    "def part2(commands):\n",
    "    x, y, aim = 0, 0, 0\n",
    "    for command_line in commands:\n",
    "        command, delta = command_line.split()\n",
    "        x, y, aim = command_mappings[command](x, y, int(delta), aim)\n",
    "\n",
    "    return x * y"
   ],
   "metadata": {
    "collapsed": false,
    "pycharm": {
     "name": "#%%\n"
    }
   }
  },
  {
   "cell_type": "code",
   "execution_count": 83,
   "outputs": [
    {
     "name": "stdout",
     "output_type": "stream",
     "text": [
      "Solution to part 1 is 1383564\n",
      "Solution to part 2 is 1488311643\n"
     ]
    }
   ],
   "source": [
    "print(f\"Solution to part 1 is {part1(num_list)}\")\n",
    "print(f\"Solution to part 2 is {part2(num_list)}\")"
   ],
   "metadata": {
    "collapsed": false,
    "pycharm": {
     "name": "#%%\n"
    }
   }
  }
 ],
 "metadata": {
  "kernelspec": {
   "display_name": "Python 3",
   "language": "python",
   "name": "python3"
  },
  "language_info": {
   "codemirror_mode": {
    "name": "ipython",
    "version": 2
   },
   "file_extension": ".py",
   "mimetype": "text/x-python",
   "name": "python",
   "nbconvert_exporter": "python",
   "pygments_lexer": "ipython2",
   "version": "2.7.6"
  }
 },
 "nbformat": 4,
 "nbformat_minor": 0
}