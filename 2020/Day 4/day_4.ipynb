{
 "cells": [
  {
   "cell_type": "code",
   "execution_count": 39,
   "metadata": {},
   "outputs": [],
   "source": [
    "from os import path\n",
    "from itertools import groupby\n",
    "from re import match as regex_match"
   ]
  },
  {
   "cell_type": "code",
   "execution_count": 64,
   "metadata": {},
   "outputs": [],
   "source": [
    "passport_info = list()\n",
    "\n",
    "with open(path.join(globals()['_dh'][0], \"input.txt\")) as f:\n",
    "    passport_info = [x.strip() for x in f.readlines()]\n",
    "    passport_info = list(list(info) for k,info in groupby(passport_info, key=lambda x: x != '') if k)\n",
    "\n",
    "passport_info_test = list()\n",
    "with open(path.join(globals()['_dh'][0], \"test.txt\")) as f:\n",
    "    passport_info_test = [x.strip() for x in f.readlines()]\n",
    "    passport_info_test = list(list(info) for k,info in groupby(passport_info_test, key=lambda x: x != '') if k)"
   ]
  },
  {
   "cell_type": "code",
   "execution_count": 135,
   "metadata": {},
   "outputs": [],
   "source": [
    "def has_required_keys(passport_info: list) -> bool:\n",
    "    required_info = {k:True for k in [\"byr\", \"iyr\", \"eyr\", \"hgt\", \"hcl\", \"ecl\", \"pid\"]}\n",
    "\n",
    "    split_info = \" \".join(passport_info).split()\n",
    "    existing_info = {x.split(\":\")[0] : True for x in split_info}\n",
    "    \n",
    "    passport_is_valid = True\n",
    "    \n",
    "    for key in required_info.keys():\n",
    "        if key not in existing_info:\n",
    "            passport_is_valid = False\n",
    "            break;\n",
    "    \n",
    "    return passport_is_valid"
   ]
  },
  {
   "cell_type": "code",
   "execution_count": 136,
   "metadata": {},
   "outputs": [],
   "source": [
    "def check_passport_info1(info_list: list) -> int:\n",
    "    valid_info_count = 0\n",
    "    \n",
    "    for info in info_list:\n",
    "        passport_is_valid = True\n",
    "\n",
    "        if has_required_keys(info):\n",
    "            valid_info_count += 1\n",
    "    \n",
    "    return valid_info_count"
   ]
  },
  {
   "cell_type": "code",
   "execution_count": 137,
   "metadata": {},
   "outputs": [
    {
     "name": "stdout",
     "output_type": "stream",
     "text": [
      "Part 1 answer is: 237\n"
     ]
    }
   ],
   "source": [
    "print(f\"Part 1 answer is: {check_passport_info1(passport_info)}\")"
   ]
  },
  {
   "cell_type": "code",
   "execution_count": null,
   "metadata": {},
   "outputs": [],
   "source": [
    "def parameter_is_valid(param: str, value: str) -> bool:\n",
    "    config = {\n",
    "        \"byr\": {\n",
    "            \"size\": 4,\n",
    "            \"max\": 2002,\n",
    "            \"min\": 1920\n",
    "        },\n",
    "        \"iyr\": {\n",
    "            \"size\": 4,\n",
    "            \"max\": 2020,\n",
    "            \"min\": 2010\n",
    "        },\n",
    "        \"eyr\": {\n",
    "            \"size\": 4,\n",
    "            \"max\": 2030,\n",
    "            \"min\": 2020\n",
    "        },\n",
    "        \"hgt\": {\n",
    "            \"in\": {\n",
    "                \"max\": 76,\n",
    "                \"min\": 59\n",
    "            },\n",
    "            \"cm\": {\n",
    "                \"max\": 193,\n",
    "                \"min\": 150\n",
    "            }\n",
    "        },\n",
    "        \"hcl\": {\n",
    "            \"pattern\": \"^\\#[0-9a-f]{6}$\"\n",
    "        },\n",
    "        \"pid\": {\n",
    "            \"pattern\": \"^[0-9]{9}$\"\n",
    "        },\n",
    "        \"ecl\": {\n",
    "            \"list\": [\"amb\", \"blu\", \"brn\", \"gry\", \"grn\", \"hzl\", \"oth\"]\n",
    "        }\n",
    "    }\n",
    "    if param == 'cid':\n",
    "        return True\n",
    "    elif param == 'byr' or param == 'iyr' or param == 'eyr':\n",
    "        if len(value) != config[param][\"size\"] or (int(value) <= config[param][\"max\"] and int(value) >= config[param][\"min\"]):\n",
    "            return True\n",
    "        return False\n",
    "    elif param == 'hgt':\n",
    "        dimension = value[-2:]\n",
    "        if len(value[:-2]) == 0:\n",
    "            return False\n",
    "        number = int(value[:-2])\n",
    "        if dimension not in ['cm', 'in']:\n",
    "            return False\n",
    "        if number <= config[param][dimension][\"max\"] and number >= config[param][dimension][\"min\"]:\n",
    "            return True\n",
    "        return False\n",
    "    elif param == 'hcl' or param == 'pid':\n",
    "        pattern = config[param][\"pattern\"]\n",
    "        return bool(regex_match(pattern, value))\n",
    "    elif param == 'ecl':\n",
    "        return value in config[param][\"list\"]"
   ]
  },
  {
   "cell_type": "code",
   "execution_count": 140,
   "metadata": {},
   "outputs": [],
   "source": [
    "def check_passport_info2(info_list: list) -> int:\n",
    "    valid_info_count = 0\n",
    "\n",
    "    for info in info_list:\n",
    "        if not has_required_keys(info):\n",
    "            continue\n",
    "        \n",
    "        passport_is_valid = True\n",
    "        split_info = \" \".join(info).split()\n",
    "        \n",
    "        existing_info = {x.split(\":\")[0] : x.split(\":\")[1] for x in split_info}\n",
    "        \n",
    "        for key, value in existing_info.items():\n",
    "            if not parameter_is_valid(key, value):\n",
    "                passport_is_valid = False\n",
    "                break;\n",
    "        \n",
    "        if passport_is_valid:\n",
    "            valid_info_count += 1\n",
    "\n",
    "    return valid_info_count"
   ]
  },
  {
   "cell_type": "code",
   "execution_count": 142,
   "metadata": {},
   "outputs": [
    {
     "name": "stdout",
     "output_type": "stream",
     "text": [
      "Part 2 answer is: 172\n"
     ]
    }
   ],
   "source": [
    "print(f\"Part 2 answer is: {check_passport_info2(passport_info)}\")"
   ]
  }
 ],
 "metadata": {
  "kernelspec": {
   "display_name": "Python 3",
   "language": "python",
   "name": "python3"
  },
  "language_info": {
   "codemirror_mode": {
    "name": "ipython",
    "version": 3
   },
   "file_extension": ".py",
   "mimetype": "text/x-python",
   "name": "python",
   "nbconvert_exporter": "python",
   "pygments_lexer": "ipython3",
   "version": "3.9.0"
  }
 },
 "nbformat": 4,
 "nbformat_minor": 4
}
