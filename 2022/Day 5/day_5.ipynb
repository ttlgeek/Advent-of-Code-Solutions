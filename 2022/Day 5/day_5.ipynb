{
 "cells": [
  {
   "cell_type": "code",
   "execution_count": 377,
   "id": "6cca87d2-3e5d-4528-819b-bd93a751485c",
   "metadata": {},
   "outputs": [],
   "source": [
    "from os import path\n",
    "from itertools import groupby\n",
    "from collections import defaultdict\n",
    "import parse\n",
    "\n",
    "raw_input = list()\n",
    "\n",
    "with open(path.join(globals()['_dh'][0], \"input.txt\")) as f:\n",
    "    raw_input = [x for x in f.readlines()]\n",
    "\n",
    "raw_input_test = list()\n",
    "with open(path.join(globals()['_dh'][0], \"test.txt\")) as f:\n",
    "   raw_input_test = [x for x in f.readlines()]"
   ]
  },
  {
   "cell_type": "code",
   "execution_count": 41,
   "id": "c18e6614-4a2d-43fb-a01c-44518f721769",
   "metadata": {},
   "outputs": [],
   "source": [
    "def split_input(raw):\n",
    "    grouped = [list(g) for k,g in groupby(raw, lambda s: s == '\\n') if not k]\n",
    "    stack, instructions = grouped\n",
    "    \n",
    "    return stack, [x.strip() for x in instructions]"
   ]
  },
  {
   "cell_type": "code",
   "execution_count": 379,
   "id": "3d02c028-b05d-40d9-b4d3-e03a2511fc7e",
   "metadata": {},
   "outputs": [],
   "source": [
    "def parse_stack(raw_stack):\n",
    "    reversed_stack = raw_stack[::-1]\n",
    "    stack_height = len(reversed_stack) - 1\n",
    "    stack_count = len(reversed_stack[0].split())\n",
    "    \n",
    "    parsed_stack = defaultdict(list)\n",
    "    \n",
    "    formatted_stack = list()\n",
    "\n",
    "    for i in range(1, stack_height + 1):\n",
    "        current_stack = reversed_stack[i]\n",
    "        template = ' '.join([\"{:3}\" for i in range(stack_count)]) + '\\n'\n",
    "        \n",
    "        parsed = parse.parse(template, current_stack)\n",
    "        parsed = [x.strip() for x in list(parsed)]\n",
    "        \n",
    "        formatted_stack.append(parsed)\n",
    "\n",
    "    for stack in formatted_stack:\n",
    "        for i in range(stack_count):\n",
    "            final_stack = list(filter(lambda n: n != '', stack[i]))\n",
    "            if stack[i] != '': parsed_stack[i + 1].append(stack[i])\n",
    "    \n",
    "    return parsed_stack"
   ]
  },
  {
   "cell_type": "code",
   "execution_count": 409,
   "id": "58f1d384-67de-4b0a-80c3-2c4ea0782d38",
   "metadata": {},
   "outputs": [],
   "source": [
    "def part1(input_list):\n",
    "    stack, instructions = split_input(input_list)\n",
    "    parsed_stack = parse_stack(stack)\n",
    "    \n",
    "    instruction_pattern = parse.compile('move {count} from {source} to {destination}')\n",
    "    \n",
    "    for instruction in instructions:\n",
    "        parsed = instruction_pattern.parse(instruction)\n",
    "        \n",
    "        count = int(parsed['count'])\n",
    "        source = int(parsed['source'])\n",
    "        destination = int(parsed['destination'])\n",
    "        \n",
    "        for _ in range(count):\n",
    "            popped = parsed_stack[source].pop()\n",
    "            parsed_stack[destination].append(popped)\n",
    "        \n",
    "    last_elements = []\n",
    "\n",
    "    for k in sorted(parsed_stack.keys()):\n",
    "        last_elements.append(parsed_stack[k][-1])\n",
    "\n",
    "    return ''.join(last_elements)"
   ]
  },
  {
   "cell_type": "code",
   "execution_count": 416,
   "id": "0a717cf0-81f0-4c2b-9f0e-75e0b2c02897",
   "metadata": {},
   "outputs": [],
   "source": [
    "def part2(input_list):\n",
    "    stack, instructions = split_input(input_list)\n",
    "    parsed_stack = parse_stack(stack)\n",
    "    \n",
    "    instruction_pattern = parse.compile('move {count} from {source} to {destination}')\n",
    "    \n",
    "    for instruction in instructions:\n",
    "        parsed = instruction_pattern.parse(instruction)\n",
    "        \n",
    "        count = int(parsed['count'])\n",
    "        source = int(parsed['source'])\n",
    "        destination = int(parsed['destination'])\n",
    "        \n",
    "        popped = list()\n",
    "        \n",
    "        for _ in range(count):\n",
    "            popped.append(parsed_stack[source].pop())\n",
    "        \n",
    "        popped = popped[::-1]\n",
    "        \n",
    "        for crate in popped:\n",
    "            parsed_stack[destination].append(crate)\n",
    "        \n",
    "    last_elements = []\n",
    "\n",
    "    for k in sorted(parsed_stack.keys()):\n",
    "        last_elements.append(parsed_stack[k][-1])\n",
    "\n",
    "    return ''.join(last_elements)"
   ]
  },
  {
   "cell_type": "code",
   "execution_count": 418,
   "id": "286b4bea-67c0-40b5-829d-917bdbf6050c",
   "metadata": {},
   "outputs": [
    {
     "name": "stdout",
     "output_type": "stream",
     "text": [
      "Solution to part 1 is [P][S][N][R][G][B][T][F][T]\n",
      "Solution to part 2 is [B][N][T][Z][F][P][M][M][W]\n"
     ]
    }
   ],
   "source": [
    "print(f\"Solution to part 1 is {part1(raw_input)}\")\n",
    "print(f\"Solution to part 2 is {part2(raw_input)}\")"
   ]
  }
 ],
 "metadata": {
  "kernelspec": {
   "display_name": "Python 3 (ipykernel)",
   "language": "python",
   "name": "python3"
  },
  "language_info": {
   "codemirror_mode": {
    "name": "ipython",
    "version": 3
   },
   "file_extension": ".py",
   "mimetype": "text/x-python",
   "name": "python",
   "nbconvert_exporter": "python",
   "pygments_lexer": "ipython3",
   "version": "3.10.8"
  }
 },
 "nbformat": 4,
 "nbformat_minor": 5
}
