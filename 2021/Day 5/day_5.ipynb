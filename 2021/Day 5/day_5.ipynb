{
 "cells": [
  {
   "cell_type": "code",
   "execution_count": 179,
   "metadata": {
    "collapsed": true,
    "pycharm": {
     "name": "#%%\n"
    }
   },
   "outputs": [],
   "source": [
    "from os import path\n",
    "from collections import defaultdict\n",
    "\n",
    "num_list = list()\n",
    "\n",
    "with open(path.join(globals()['_dh'][0], \"input.txt\")) as f:\n",
    "    num_list = [x.strip() for x in f.readlines()]\n",
    "\n",
    "num_list_test = list()\n",
    "with open(path.join(globals()['_dh'][0], \"test.txt\")) as f:\n",
    "    num_list_test = [x.strip() for x in f.readlines()]"
   ]
  },
  {
   "cell_type": "code",
   "execution_count": 180,
   "outputs": [],
   "source": [
    "def is_horizontal(y1, y2):\n",
    "    return y1 == y2"
   ],
   "metadata": {
    "collapsed": false,
    "pycharm": {
     "name": "#%%\n"
    }
   }
  },
  {
   "cell_type": "code",
   "execution_count": 181,
   "outputs": [],
   "source": [
    "def is_vertical(x1, x2):\n",
    "    return x1 == x2"
   ],
   "metadata": {
    "collapsed": false,
    "pycharm": {
     "name": "#%%\n"
    }
   }
  },
  {
   "cell_type": "code",
   "execution_count": 182,
   "outputs": [],
   "source": [
    "def part1(segments):\n",
    "    points = defaultdict(int)\n",
    "    for segment in segments:\n",
    "        coords1, coords2 = segment.split(' -> ')\n",
    "        x1, y1 = (int(x) for x in coords1.split(','))\n",
    "        x2, y2 = (int(x) for x in coords2.split(','))\n",
    "\n",
    "        if is_horizontal(y1, y2):\n",
    "            starting_point = min(x1, x2)\n",
    "            ending_point = max(x1, x2) + 1\n",
    "            for i in range(starting_point, ending_point):\n",
    "                points[(i, y1)] += 1\n",
    "        if is_vertical(x1, x2):\n",
    "            starting_point = min(y1, y2)\n",
    "            ending_point = max(y1, y2) + 1\n",
    "            for i in range(starting_point, ending_point):\n",
    "                points[(x1, i)] += 1\n",
    "\n",
    "    return sum([1 for point, count in points.items() if count > 1])"
   ],
   "metadata": {
    "collapsed": false,
    "pycharm": {
     "name": "#%%\n"
    }
   }
  },
  {
   "cell_type": "code",
   "execution_count": 183,
   "outputs": [
    {
     "name": "stdout",
     "output_type": "stream",
     "text": [
      "Solution to part 1 is 7473\n"
     ]
    }
   ],
   "source": [
    "print(f\"Solution to part 1 is {part1(num_list)}\")"
   ],
   "metadata": {
    "collapsed": false,
    "pycharm": {
     "name": "#%%\n"
    }
   }
  }
 ],
 "metadata": {
  "kernelspec": {
   "display_name": "Python 3",
   "language": "python",
   "name": "python3"
  },
  "language_info": {
   "codemirror_mode": {
    "name": "ipython",
    "version": 2
   },
   "file_extension": ".py",
   "mimetype": "text/x-python",
   "name": "python",
   "nbconvert_exporter": "python",
   "pygments_lexer": "ipython2",
   "version": "2.7.6"
  }
 },
 "nbformat": 4,
 "nbformat_minor": 0
}