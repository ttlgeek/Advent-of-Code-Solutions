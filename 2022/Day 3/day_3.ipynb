{
 "cells": [
  {
   "cell_type": "code",
   "execution_count": 45,
   "id": "3c7d738e-f0d1-436a-93bb-9927b61baed8",
   "metadata": {},
   "outputs": [],
   "source": [
    "from os import path\n",
    "\n",
    "rucksacks = list()\n",
    "\n",
    "with open(path.join(globals()['_dh'][0], \"input.txt\")) as f:\n",
    "    rucksacks = [x.strip() for x in f.readlines()]\n",
    "\n",
    "rucksacks_test = list()\n",
    "with open(path.join(globals()['_dh'][0], \"test.txt\")) as f:\n",
    "    rucksacks_test = [x.strip() for x in f.readlines()]"
   ]
  },
  {
   "cell_type": "code",
   "execution_count": 34,
   "id": "cb09d353-f478-401e-b634-bb9496f01bdc",
   "metadata": {},
   "outputs": [],
   "source": [
    "def get_item_priority(item):\n",
    "    diff = 38 if item.isupper() else 96\n",
    "    return ord(item) - diff"
   ]
  },
  {
   "cell_type": "code",
   "execution_count": 43,
   "id": "a3b232cf-d2b1-4924-b84c-08a7469abfcf",
   "metadata": {},
   "outputs": [],
   "source": [
    "def part1(input_list):\n",
    "    result = 0\n",
    "    \n",
    "    for rucksack in input_list:\n",
    "        length = len(rucksack)\n",
    "        middle = length // 2\n",
    "        compartment_1 = rucksack[:middle]\n",
    "        compartment_2 = rucksack[middle:]\n",
    "        common_items = set(compartment_1).intersection(compartment_2)\n",
    "        \n",
    "        result += sum([get_item_priority(x) for x in common_items])\n",
    "    \n",
    "    return result"
   ]
  },
  {
   "cell_type": "code",
   "execution_count": 47,
   "id": "75908945-9968-48ba-ace6-5068e722c48a",
   "metadata": {},
   "outputs": [],
   "source": [
    "def split_into_groups(input_list):\n",
    "    group_size = 3\n",
    "    return [input_list[x:x+group_size] for x in range(0, len(input_list), group_size)]"
   ]
  },
  {
   "cell_type": "code",
   "execution_count": 60,
   "id": "ffec56e9-fe59-4cae-b7f7-724ac6e00302",
   "metadata": {},
   "outputs": [],
   "source": [
    "def part2(input_list):\n",
    "    result = 0\n",
    "    \n",
    "    groups = split_into_groups(input_list)\n",
    "    \n",
    "    for elf_group in groups:\n",
    "        common_item = list(set(elf_group[0]).intersection(elf_group[1]).intersection(elf_group[2]))[0]\n",
    "        result += get_item_priority(common_item)\n",
    "    \n",
    "    return result"
   ]
  },
  {
   "cell_type": "code",
   "execution_count": 63,
   "id": "4a83d70c-c5bf-48a9-9e2d-36f5dd337c39",
   "metadata": {},
   "outputs": [
    {
     "name": "stdout",
     "output_type": "stream",
     "text": [
      "Solution to part 1 is 7889\n",
      "Solution to part 2 is 2825\n"
     ]
    }
   ],
   "source": [
    "print(f\"Solution to part 1 is {part1(rucksacks)}\")\n",
    "print(f\"Solution to part 2 is {part2(rucksacks)}\")"
   ]
  }
 ],
 "metadata": {
  "kernelspec": {
   "display_name": "Python 3 (ipykernel)",
   "language": "python",
   "name": "python3"
  },
  "language_info": {
   "codemirror_mode": {
    "name": "ipython",
    "version": 3
   },
   "file_extension": ".py",
   "mimetype": "text/x-python",
   "name": "python",
   "nbconvert_exporter": "python",
   "pygments_lexer": "ipython3",
   "version": "3.10.8"
  }
 },
 "nbformat": 4,
 "nbformat_minor": 5
}
