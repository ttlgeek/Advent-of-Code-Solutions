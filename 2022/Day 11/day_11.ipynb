{
 "cells": [
  {
   "cell_type": "code",
   "execution_count": 159,
   "id": "d4d0abbb-0056-45e4-9557-f04633c57d83",
   "metadata": {},
   "outputs": [],
   "source": [
    "from os import path\n",
    "from itertools import groupby\n",
    "from functools import reduce\n",
    "import parse\n",
    "\n",
    "instructions = list()\n",
    "\n",
    "with open(path.join(globals()['_dh'][0], \"input.txt\")) as f:\n",
    "    instructions = [x.strip() for x in f.readlines()]\n",
    "\n",
    "instructions_test = list()\n",
    "with open(path.join(globals()['_dh'][0], \"test.txt\")) as f:\n",
    "    instructions_test = [x.strip() for x in f.readlines()]\n",
    "\n",
    "monkey_index_pattern = parse.compile('Monkey {index}:')\n",
    "starting_items_pattern = parse.compile('Starting items: {items}')\n",
    "operation_pattern = parse.compile('Operation: new = {item1} {operand} {item2}')\n",
    "test_pattern = parse.compile('Test: divisible by {modulo_base}')\n",
    "condition_pattern = parse.compile('If {result}: throw to monkey {nextMonkey}')"
   ]
  },
  {
   "cell_type": "code",
   "execution_count": 107,
   "outputs": [],
   "source": [
    "def parse_monkey_index(monkey_index_raw):\n",
    "    parsed = monkey_index_pattern.parse(monkey_index_raw)\n",
    "\n",
    "    return int(parsed['index'])"
   ],
   "metadata": {
    "collapsed": false
   }
  },
  {
   "cell_type": "code",
   "execution_count": 38,
   "outputs": [],
   "source": [
    "def parse_starting_items(starting_items_raw):\n",
    "    parsed = starting_items_pattern.parse(starting_items_raw)\n",
    "\n",
    "    return [int(i) for i in parsed['items'].split(', ')]"
   ],
   "metadata": {
    "collapsed": false
   }
  },
  {
   "cell_type": "code",
   "execution_count": 64,
   "outputs": [],
   "source": [
    "def parse_operation(operation_raw):\n",
    "    parsed = operation_pattern.parse(operation_raw)\n",
    "\n",
    "    item_1 = parsed['item1']\n",
    "    operand = parsed['operand']\n",
    "    item_2 = parsed['item2']\n",
    "\n",
    "    if item_1 == 'old' and item_2 == 'old':\n",
    "        if operand == '+':\n",
    "            return lambda x: x + x\n",
    "        if operand == '-':\n",
    "            return lambda x: 0\n",
    "        if operand == '*':\n",
    "            return lambda x: x ** 2\n",
    "    if item_1 == 'old' and item_2 != 'old':\n",
    "        if operand == '+':\n",
    "            return lambda x: x + int(item_2)\n",
    "        if operand == '-':\n",
    "            return lambda x: x - int(item_2)\n",
    "        if operand == '*':\n",
    "            return lambda x: x * int(item_2)\n",
    "    if item_1 != 'old' and item_2 == 'old':\n",
    "        if operand == '+':\n",
    "            return lambda x: int(item_2) + x\n",
    "        if operand == '-':\n",
    "            return lambda x: int(item_2) - x\n",
    "        if operand == '*':\n",
    "            return lambda x: int(item_2) * x\n",
    "    if item_1 != 'old' and item_2 != 'old':\n",
    "        if operand == '+':\n",
    "            return lambda x: int(item_1) + int(item_2)\n",
    "        if operand == '-':\n",
    "            return lambda x: int(item_1) - int(item_2)\n",
    "        if operand == '*':\n",
    "            return lambda x: int(item_1) * int(item_2)"
   ],
   "metadata": {
    "collapsed": false
   }
  },
  {
   "cell_type": "code",
   "execution_count": 97,
   "outputs": [],
   "source": [
    "def parse_test(test_raw, truthy_condition_raw, falsy_condition_raw):\n",
    "    parsed = test_pattern.parse(test_raw)\n",
    "\n",
    "    modulo_base = int(parsed['modulo_base'])\n",
    "\n",
    "    truthy_monkey_index = int(condition_pattern.parse(truthy_condition_raw)['nextMonkey'])\n",
    "    falsy_monkey_index = int(condition_pattern.parse(falsy_condition_raw)['nextMonkey'])\n",
    "\n",
    "    return lambda x: truthy_monkey_index if x % modulo_base == 0 else falsy_monkey_index"
   ],
   "metadata": {
    "collapsed": false
   }
  },
  {
   "cell_type": "code",
   "execution_count": 156,
   "outputs": [],
   "source": [
    "def parse_input(input_list):\n",
    "    monkeys = dict()\n",
    "\n",
    "    grouped = [list(g) for k, g in groupby(input_list, lambda s: s == '') if not k]\n",
    "\n",
    "    for group in grouped:\n",
    "        monkey_index_raw, starting_items_raw, operation_raw, test_raw, truthy_condition_raw, falsy_condition_raw = tuple(\n",
    "            group)\n",
    "\n",
    "        monkey_index = parse_monkey_index(monkey_index_raw)\n",
    "        starting_items = parse_starting_items(starting_items_raw)\n",
    "        operation = parse_operation(operation_raw)\n",
    "        test_condition = parse_test(test_raw, truthy_condition_raw, falsy_condition_raw)\n",
    "\n",
    "        monkeys[monkey_index] = {\n",
    "            'items': starting_items,\n",
    "            'operation': operation,\n",
    "            'test_condition': test_condition,\n",
    "            'inspection_count': 0\n",
    "        }\n",
    "\n",
    "    return monkeys"
   ],
   "metadata": {
    "collapsed": false
   }
  },
  {
   "cell_type": "code",
   "execution_count": 157,
   "id": "dad2fec0-54b4-4a2c-86f3-a593a19857c1",
   "metadata": {},
   "outputs": [],
   "source": [
    "def part1(input_list):\n",
    "    monkeys = parse_input(input_list)\n",
    "\n",
    "    monkey_count = max(monkeys.keys()) + 1\n",
    "\n",
    "    rounds = 20\n",
    "\n",
    "    for _ in range(rounds):\n",
    "        for monkeyIndex in range(monkey_count):\n",
    "            items = monkeys[monkeyIndex]['items']\n",
    "            monkeys[monkeyIndex]['inspection_count'] += len(items)\n",
    "\n",
    "            for itemIndex in range(len(items)):\n",
    "                item = items.pop(0)\n",
    "                new_worry_level = monkeys[monkeyIndex]['operation'](item)\n",
    "\n",
    "                rounded = new_worry_level // 3\n",
    "\n",
    "                next_monkey = monkeys[monkeyIndex]['test_condition'](rounded)\n",
    "\n",
    "                monkeys[next_monkey]['items'].append(rounded)\n",
    "    most_inspections = sorted([v['inspection_count'] for v in monkeys.values()])[-2:]\n",
    "\n",
    "    return reduce(lambda a, b: a * b, most_inspections, 1)"
   ]
  },
  {
   "cell_type": "code",
   "execution_count": 176,
   "outputs": [],
   "source": [
    "def part2(input_list):\n",
    "    monkeys = parse_input(input_list)\n",
    "\n",
    "    monkey_count = max(monkeys.keys()) + 1\n",
    "\n",
    "    rounds = 95\n",
    "\n",
    "    for _ in range(rounds):\n",
    "        for monkeyIndex in range(monkey_count):\n",
    "            items = monkeys[monkeyIndex]['items']\n",
    "            monkeys[monkeyIndex]['inspection_count'] += len(items)\n",
    "\n",
    "            for itemIndex in range(len(items)):\n",
    "                item = items.pop(0)\n",
    "                new_worry_level = monkeys[monkeyIndex]['operation'](item)\n",
    "\n",
    "                next_monkey = monkeys[monkeyIndex]['test_condition'](new_worry_level)\n",
    "\n",
    "                monkeys[next_monkey]['items'].append(new_worry_level)\n",
    "    most_inspections = sorted([v['inspection_count'] for v in monkeys.values()])[-2:]\n",
    "\n",
    "    return reduce(lambda a, b: a * b, most_inspections, 1)"
   ],
   "metadata": {
    "collapsed": false
   }
  },
  {
   "cell_type": "markdown",
   "source": [],
   "metadata": {
    "collapsed": false
   }
  },
  {
   "cell_type": "code",
   "execution_count": 177,
   "id": "b788f274-7cd1-4d9a-8d06-85d1af9c98a8",
   "metadata": {},
   "outputs": [
    {
     "name": "stdout",
     "output_type": "stream",
     "text": [
      "Solution to part 1 is : 316888\n",
      "Solution to part 2 is : 235224\n"
     ]
    }
   ],
   "source": [
    "print(f\"Solution to part 1 is : {part1(instructions)}\")\n",
    "print(f\"Solution to part 2 is : {part2(instructions_test)}\")"
   ]
  }
 ],
 "metadata": {
  "kernelspec": {
   "display_name": "Python 3 (ipykernel)",
   "language": "python",
   "name": "python3"
  },
  "language_info": {
   "codemirror_mode": {
    "name": "ipython",
    "version": 3
   },
   "file_extension": ".py",
   "mimetype": "text/x-python",
   "name": "python",
   "nbconvert_exporter": "python",
   "pygments_lexer": "ipython3",
   "version": "3.10.8"
  }
 },
 "nbformat": 4,
 "nbformat_minor": 5
}
