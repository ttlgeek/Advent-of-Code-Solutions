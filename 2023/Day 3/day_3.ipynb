{
 "cells": [
  {
   "cell_type": "code",
   "execution_count": 293,
   "id": "6147a9ff-085d-45dc-8f7c-93d0584bee06",
   "metadata": {},
   "outputs": [],
   "source": [
    "from os import path\n",
    "from itertools import groupby, chain\n",
    "from functools import reduce\n",
    "from collections import defaultdict\n",
    "from operator import mul\n",
    "\n",
    "instructions = list()\n",
    "\n",
    "with open(path.join(globals()['_dh'][0], \"input.txt\")) as f:\n",
    "    instructions = [x.strip() for x in f.readlines()]\n",
    "\n",
    "instructions_test = list()\n",
    "with open(path.join(globals()['_dh'][0], \"test.txt\")) as f:\n",
    "    instructions_test = [x.strip() for x in f.readlines()]"
   ]
  },
  {
   "cell_type": "code",
   "execution_count": 110,
   "id": "691cfbe9-3e4d-441b-9a0b-c2c5d4bc2e52",
   "metadata": {},
   "outputs": [],
   "source": [
    "def flatten(x):\n",
    "    if isinstance(x, list):\n",
    "        return [a for i in x for a in flatten(i)]\n",
    "    else:\n",
    "        return [x]\n",
    "\n",
    "    return x"
   ]
  },
  {
   "cell_type": "code",
   "execution_count": 233,
   "id": "74737fd1-3f33-4ed2-92d1-d1d0356837cb",
   "metadata": {},
   "outputs": [],
   "source": [
    "def parse_board(board_lines):\n",
    "    x, y = 0, 0\n",
    "    width, height = len(board_lines[0]), len(board_lines)\n",
    "    cells = dict()\n",
    "    for line in board_lines:\n",
    "        parsed_line = [\"\".join(x) for _, x in groupby(line, str.isdigit)]\n",
    "        parsed_line = [c if c.isdigit() else list(c) for c in parsed_line]\n",
    "        parsed_line = flatten(parsed_line)\n",
    "        if len(parsed_line) == 1:\n",
    "            parsed_line = [c for c in line]\n",
    "        for c in parsed_line:\n",
    "            cells[(x, y)] = c\n",
    "            x += len(c)\n",
    "        x = 0\n",
    "        y += 1\n",
    "\n",
    "    symbols = list(set([c for _, c in cells.items() if not c.isdigit() and c != '.']))\n",
    "\n",
    "    return cells, symbols, width, height\n"
   ]
  },
  {
   "cell_type": "code",
   "execution_count": 207,
   "id": "a3ccdac0-402b-4e30-8762-1b8a06c1f4be",
   "metadata": {},
   "outputs": [],
   "source": [
    "def get_adjacent_cells(x, y, cell):\n",
    "    left = [(x - 1, y)]\n",
    "    top = [(x + i, y - 1) for i in range(len(cell))]\n",
    "    right = [(x + len(cell), y)]\n",
    "    bottom = [(x + i, y + 1) for i in range(len(cell))]\n",
    "    top_left = [(x - 1, y - 1)]\n",
    "    top_right = [(x + len(cell), y - 1)]\n",
    "    bottom_left = [(x - 1, y + 1)]\n",
    "    bottom_right = [(x + len(cell), y + 1)]\n",
    "\n",
    "    return flatten([top, right, bottom, left, top_left, top_right, bottom_left, bottom_right])"
   ]
  },
  {
   "cell_type": "code",
   "execution_count": 253,
   "id": "60bc6231-d00e-405b-ae1b-354e8601d972",
   "metadata": {},
   "outputs": [],
   "source": [
    "def part1(input_list):\n",
    "    board, symbols, width, height = parse_board(input_list)\n",
    "\n",
    "    result = 0\n",
    "    \n",
    "    for coordinates, cell in board.items():\n",
    "        x, y = coordinates\n",
    "        if cell.isdigit():\n",
    "            adjacent_cells = get_adjacent_cells(x, y, cell)\n",
    "            adjacent_cells = list(filter(lambda x: x[0] >= 0 and x[0] <= width - 1 and x[1] >= 0 and x[1] <= height - 1, adjacent_cells))\n",
    "            \n",
    "            for c in adjacent_cells:\n",
    "                adjacent_cell = board[c]\n",
    "                if adjacent_cell in symbols:\n",
    "                    result += int(cell)\n",
    "    return result"
   ]
  },
  {
   "cell_type": "code",
   "execution_count": 294,
   "id": "75087a64-baca-4936-a423-171edb749dd5",
   "metadata": {},
   "outputs": [],
   "source": [
    "def part2(input_list):\n",
    "    board, symbols, width, height = parse_board(input_list)\n",
    "\n",
    "    stars = defaultdict(list)\n",
    "\n",
    "    for coordinates, cell in board.items():\n",
    "        x, y = coordinates\n",
    "        if cell.isdigit():\n",
    "            adjacent_cells = get_adjacent_cells(x, y, cell)\n",
    "            adjacent_cells = list(filter(lambda x: x[0] >= 0 and x[0] <= width - 1 and x[1] >= 0 and x[1] <= height - 1, adjacent_cells))\n",
    "            adjacent_cells = list(filter(lambda x: board[x] == '*', adjacent_cells))\n",
    "\n",
    "            for c in adjacent_cells:\n",
    "                stars[c].append(cell)\n",
    "\n",
    "    ratios = list(filter(lambda x: len(x) == 2, stars.values()))\n",
    "\n",
    "    return reduce(, reduce(mul, x))\n",
    "    \n",
    "    return ratios\n"
   ]
  },
  {
   "cell_type": "code",
   "execution_count": 295,
   "id": "ebe5c2b8-6871-44bb-a540-4e0b17176b26",
   "metadata": {},
   "outputs": [
    {
     "name": "stdout",
     "output_type": "stream",
     "text": [
      "Solution to part 1 is : 539433\n",
      "Solution to part 2 is : 2\n"
     ]
    }
   ],
   "source": [
    "print(f\"Solution to part 1 is : {part1(instructions)}\")\n",
    "print(f\"Solution to part 2 is : {part2(instructions_test)}\")"
   ]
  }
 ],
 "metadata": {
  "kernelspec": {
   "display_name": "Python 3 (ipykernel)",
   "language": "python",
   "name": "python3"
  },
  "language_info": {
   "codemirror_mode": {
    "name": "ipython",
    "version": 3
   },
   "file_extension": ".py",
   "mimetype": "text/x-python",
   "name": "python",
   "nbconvert_exporter": "python",
   "pygments_lexer": "ipython3",
   "version": "3.12.0"
  }
 },
 "nbformat": 4,
 "nbformat_minor": 5
}
