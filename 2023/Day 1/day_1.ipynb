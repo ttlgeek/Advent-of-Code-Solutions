{
 "cells": [
  {
   "cell_type": "code",
   "execution_count": 63,
   "id": "e4cf63a3-2098-4ced-8829-aa290a652a43",
   "metadata": {},
   "outputs": [],
   "source": [
    "from os import path\n",
    "from itertools import groupby\n",
    "from functools import reduce\n",
    "from re import finditer\n",
    "\n",
    "instructions = list()\n",
    "\n",
    "with open(path.join(globals()['_dh'][0], \"input.txt\")) as f:\n",
    "    instructions = [x.strip() for x in f.readlines()]\n",
    "\n",
    "instructions_test_part1 = list()\n",
    "with open(path.join(globals()['_dh'][0], \"test_part1.txt\")) as f:\n",
    "    instructions_test_part1 = [x.strip() for x in f.readlines()]\n",
    "\n",
    "instructions_test_part2 = list()\n",
    "with open(path.join(globals()['_dh'][0], \"test_part2.txt\")) as f:\n",
    "    instructions_test_part2 = [x.strip() for x in f.readlines()]"
   ]
  },
  {
   "cell_type": "code",
   "execution_count": 62,
   "id": "6b25f2fd-4a57-407a-ae1a-ff19634f1a32",
   "metadata": {},
   "outputs": [],
   "source": [
    "numbers_map = {\n",
    "    \"one\": 1,\n",
    "    \"two\": 2,\n",
    "    \"three\": 3,\n",
    "    \"four\": 4,\n",
    "    \"five\": 5,\n",
    "    \"six\": 6,\n",
    "    \"seven\": 7,\n",
    "    \"eight\": 8,\n",
    "    \"nine\": 9\n",
    "}"
   ]
  },
  {
   "cell_type": "code",
   "execution_count": 83,
   "id": "31e58196-8690-46cc-9afc-869eb69bd963",
   "metadata": {},
   "outputs": [],
   "source": [
    "def isNumber(char):\n",
    "    if len(char) > 1: return False\n",
    "    ordinal = ord(char)\n",
    "    return ordinal <= 57 and ordinal >= 48"
   ]
  },
  {
   "cell_type": "code",
   "execution_count": 44,
   "id": "46efafcf-d7f9-44ad-ab52-260b0ed28ac5",
   "metadata": {},
   "outputs": [],
   "source": [
    "def part1(input_list):\n",
    "    result = 0\n",
    "\n",
    "    for instruction in input_list:\n",
    "        numbers = [c for c in instruction if isNumber(c)]\n",
    "        result += int(numbers[0] + numbers[-1])\n",
    "\n",
    "    return result"
   ]
  },
  {
   "cell_type": "code",
   "execution_count": 99,
   "id": "0a2a8248-caea-4966-9744-59730fa70b02",
   "metadata": {},
   "outputs": [],
   "source": [
    "def part2(input_list):\n",
    "    result = 0\n",
    "\n",
    "    for instruction in input_list:\n",
    "        raw_numbers_indexes = [(i, c)  for i, c in enumerate(instruction) if isNumber(c)]\n",
    "        spelled_numbers_indexes = [(m.start(), m.group()) for n in numbers_map.keys() for m in finditer(n, instruction)]\n",
    "\n",
    "        indices = raw_numbers_indexes + spelled_numbers_indexes\n",
    "        indices.sort(key=lambda x: x[0])\n",
    "\n",
    "        number_1 = indices[0][1] if isNumber(indices[0][1]) else str(numbers_map[indices[0][1]])\n",
    "        number_2 = indices[-1][1] if isNumber(indices[-1][1]) else str(numbers_map[indices[-1][1]])\n",
    "\n",
    "        result += int(number_1 + number_2)\n",
    "\n",
    "    return result"
   ]
  },
  {
   "cell_type": "code",
   "execution_count": 101,
   "id": "8e797d57-52fa-4d86-841c-3fd34eff1ed2",
   "metadata": {},
   "outputs": [
    {
     "name": "stdout",
     "output_type": "stream",
     "text": [
      "Solution to part 1 is : 54601\n",
      "Solution to part 2 is : 54078\n"
     ]
    }
   ],
   "source": [
    "print(f\"Solution to part 1 is : {part1(instructions)}\")\n",
    "print(f\"Solution to part 2 is : {part2(instructions)}\")"
   ]
  }
 ],
 "metadata": {
  "kernelspec": {
   "display_name": "Python 3 (ipykernel)",
   "language": "python",
   "name": "python3"
  },
  "language_info": {
   "codemirror_mode": {
    "name": "ipython",
    "version": 3
   },
   "file_extension": ".py",
   "mimetype": "text/x-python",
   "name": "python",
   "nbconvert_exporter": "python",
   "pygments_lexer": "ipython3",
   "version": "3.11.4"
  }
 },
 "nbformat": 4,
 "nbformat_minor": 5
}
