{
 "cells": [
  {
   "cell_type": "code",
   "execution_count": 40,
   "metadata": {},
   "outputs": [],
   "source": [
    "num_list = list()\n",
    "\n",
    "with open(path.join(globals()['_dh'][0], \"input.txt\")) as f:\n",
    "    num_list = [int(x.strip()) for x in f.readlines()]\n",
    "\n",
    "num_list_test = list()\n",
    "with open(path.join(globals()['_dh'][0], \"test.txt\")) as f:\n",
    "    num_list_test = [int(x.strip()) for x in f.readlines()]"
   ]
  },
  {
   "cell_type": "code",
   "execution_count": 70,
   "metadata": {},
   "outputs": [],
   "source": [
    "target_sum = 2020"
   ]
  },
  {
   "cell_type": "code",
   "execution_count": 42,
   "metadata": {},
   "outputs": [],
   "source": [
    "def two_sum(target_sum: int, num_list: list) -> list:\n",
    "    hash_map = dict()\n",
    "    for num in num_list:\n",
    "        if num > target_sum:\n",
    "            continue\n",
    "        \n",
    "        if num in hash_map:\n",
    "            return [num, hash_map[num]]\n",
    "        \n",
    "        hash_map[target_sum - num] = num\n",
    "    \n",
    "    return [0, 0]"
   ]
  },
  {
   "cell_type": "code",
   "execution_count": 43,
   "metadata": {},
   "outputs": [],
   "source": [
    "num1, num2 = two_sum(target_sum, num_list)"
   ]
  },
  {
   "cell_type": "code",
   "execution_count": 44,
   "metadata": {},
   "outputs": [
    {
     "name": "stdout",
     "output_type": "stream",
     "text": [
      "Part 1 answer is: 996996\n"
     ]
    }
   ],
   "source": [
    "print(f\"Part 1 answer is: {num1 * num2}\")"
   ]
  },
  {
   "cell_type": "code",
   "execution_count": 75,
   "metadata": {},
   "outputs": [],
   "source": [
    "def three_sum(target_sum: int, num_list: list) -> list:\n",
    "    hash_map = dict()\n",
    "    for i in range(len(num_list)):\n",
    "        num = num_list[i]\n",
    "        current_diff = target_sum - num\n",
    "        hash_map = dict()\n",
    "        for j in range(i + 1, len(num_list)):\n",
    "            next_diff = current_diff - num_list[j]\n",
    "            if next_diff in hash_map:\n",
    "                return [num, num_list[j], next_diff]\n",
    "            else:\n",
    "                hash_map[num_list[j]] = True\n",
    "\n",
    "    return [0, 0, 0]"
   ]
  },
  {
   "cell_type": "code",
   "execution_count": 81,
   "metadata": {},
   "outputs": [],
   "source": [
    "triplet_num1, triplet_num2, triplet_num3 = three_sum(target_sum, num_list)"
   ]
  },
  {
   "cell_type": "code",
   "execution_count": 82,
   "metadata": {},
   "outputs": [
    {
     "name": "stdout",
     "output_type": "stream",
     "text": [
      "Part 2 answer is: 9210402\n"
     ]
    }
   ],
   "source": [
    "print(f\"Part 2 answer is: {triplet_num1 * triplet_num2 * triplet_num3}\")"
   ]
  }
 ],
 "metadata": {
  "kernelspec": {
   "display_name": "Python 3",
   "language": "python",
   "name": "python3"
  },
  "language_info": {
   "codemirror_mode": {
    "name": "ipython",
    "version": 3
   },
   "file_extension": ".py",
   "mimetype": "text/x-python",
   "name": "python",
   "nbconvert_exporter": "python",
   "pygments_lexer": "ipython3",
   "version": "3.9.0"
  }
 },
 "nbformat": 4,
 "nbformat_minor": 4
}
