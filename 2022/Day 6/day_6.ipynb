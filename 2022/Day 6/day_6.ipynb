{
 "cells": [
  {
   "cell_type": "code",
   "execution_count": 69,
   "id": "db6df45a-b39c-4ce9-8fd2-69e8abfc25b3",
   "metadata": {},
   "outputs": [],
   "source": [
    "from os import path\n",
    "\n",
    "buffer = list()\n",
    "\n",
    "with open(path.join(globals()['_dh'][0], \"input.txt\")) as f:\n",
    "    buffer = [x for x in f.readlines()][0]\n",
    "\n",
    "buffer_test = list()\n",
    "with open(path.join(globals()['_dh'][0], \"test.txt\")) as f:\n",
    "   buffer_test = [x for x in f.readlines()][0]"
   ]
  },
  {
   "cell_type": "code",
   "execution_count": 42,
   "id": "f6a5c215-c737-4cc2-a1f9-fc3d94bfe84a",
   "metadata": {},
   "outputs": [],
   "source": [
    "def get_marker(buffer, marker_length):\n",
    "    for i in range(len(buffer) - marker_length - 1):\n",
    "        potential_marker = buffer[i:i+marker_length]\n",
    "        \n",
    "        if len(set(potential_marker)) == len(potential_marker): return potential_marker, i\n",
    "    \n",
    "    return None, None"
   ]
  },
  {
   "cell_type": "code",
   "execution_count": 65,
   "id": "8cf84f70-d5e7-4077-9cdc-ecb8218d943c",
   "metadata": {},
   "outputs": [],
   "source": [
    "def part1(buffer):\n",
    "    MARKER_LENGTH = 4\n",
    "    marker, index = get_marker(buffer, MARKER_LENGTH)\n",
    "    \n",
    "    return index + MARKER_LENGTH\n"
   ]
  },
  {
   "cell_type": "code",
   "execution_count": 66,
   "id": "23ef48a5-18bc-4ebf-91bb-ab69a0f3d850",
   "metadata": {},
   "outputs": [],
   "source": [
    "def part2(buffer):\n",
    "    MARKER_LENGTH = 14\n",
    "\n",
    "    marker, index = get_marker(buffer, MARKER_LENGTH)\n",
    "    \n",
    "    return index + MARKER_LENGTH"
   ]
  },
  {
   "cell_type": "code",
   "execution_count": 72,
   "id": "6e0bf0f0-955a-4c50-a887-e633e79fd37d",
   "metadata": {},
   "outputs": [
    {
     "ename": "SyntaxError",
     "evalue": "f-string: expecting '}' (2906018929.py, line 2)",
     "output_type": "error",
     "traceback": [
      "\u001b[0;36m  Cell \u001b[0;32mIn[72], line 2\u001b[0;36m\u001b[0m\n\u001b[0;31m    print(f\"Solution to part 2 is {part2(buffer)\")\u001b[0m\n\u001b[0m                                                 ^\u001b[0m\n\u001b[0;31mSyntaxError\u001b[0m\u001b[0;31m:\u001b[0m f-string: expecting '}'\n"
     ]
    }
   ],
   "source": [
    "print(f\"Solution to part 1 is {part1(buffer)}\")\n",
    "print(f\"Solution to part 2 is {part2(buffer)}\")"
   ]
  }
 ],
 "metadata": {
  "kernelspec": {
   "display_name": "Python 3 (ipykernel)",
   "language": "python",
   "name": "python3"
  },
  "language_info": {
   "codemirror_mode": {
    "name": "ipython",
    "version": 3
   },
   "file_extension": ".py",
   "mimetype": "text/x-python",
   "name": "python",
   "nbconvert_exporter": "python",
   "pygments_lexer": "ipython3",
   "version": "3.11.1"
  }
 },
 "nbformat": 4,
 "nbformat_minor": 5
}
