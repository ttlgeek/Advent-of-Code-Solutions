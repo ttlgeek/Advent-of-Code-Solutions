{
 "cells": [
  {
   "cell_type": "code",
   "execution_count": 302,
   "outputs": [],
   "source": [
    "from os import path\n",
    "\n",
    "num_list = list()\n",
    "\n",
    "with open(path.join(globals()['_dh'][0], \"input.txt\")) as f:\n",
    "    num_list = [int(x.strip()) for y in f.readlines() for x in y.split(',')]\n",
    "\n",
    "num_list_test = list()\n",
    "with open(path.join(globals()['_dh'][0], \"test.txt\")) as f:\n",
    "    num_list_test = [int(x.strip()) for y in f.readlines() for x in y.split(',')]"
   ],
   "metadata": {
    "collapsed": false,
    "pycharm": {
     "name": "#%%\n"
    }
   }
  },
  {
   "cell_type": "code",
   "execution_count": 303,
   "outputs": [],
   "source": [
    "# Brute forced, very slow\n",
    "# def part1(nums: list, iterations: int):\n",
    "#     fish_list = nums.copy()\n",
    "#     curr_iteration = 1\n",
    "#     while curr_iteration <= iterations:\n",
    "#         fish_to_add = 0\n",
    "#         for i in range(len(fish_list)):\n",
    "#             curr_fish = fish_list[i]\n",
    "#             if curr_fish == 0:\n",
    "#                 fish_list[i] = 6\n",
    "#                 fish_to_add += 1\n",
    "#             else:\n",
    "#                 fish_list[i] -= 1\n",
    "#         curr_iteration += 1\n",
    "#         fish_list.extend([8 for i in range(fish_to_add)])\n",
    "#\n",
    "#     return len(fish_list)\n",
    "\n",
    "def part1(nums: list, iterations: int):\n",
    "    fish_list = {i: 0 for i in range(-1, 9)}\n",
    "    for n in nums:\n",
    "        fish_list[n] += 1\n",
    "\n",
    "    for _ in range(iterations):\n",
    "        to_increment = {i: 0 for i in range(-1, 9)}\n",
    "        to_decrement = {i: 0 for i in range(-1, 9)}\n",
    "        for i in range(8, -1, -1):\n",
    "            if fish_list[i] > 0:\n",
    "                to_decrement[i] += fish_list[i]\n",
    "                to_increment[i - 1] += fish_list[i]\n",
    "\n",
    "        for n in range(0, 9):\n",
    "            delta = to_increment[n]\n",
    "            fish_list[n] += delta\n",
    "        for n in range(0, 9):\n",
    "            delta = to_decrement[n]\n",
    "            fish_list[n] -= delta\n",
    "\n",
    "        if to_increment[-1] > 0:\n",
    "            fish_list[8] += to_increment[-1]\n",
    "            fish_list[6] += to_increment[-1]\n",
    "    return sum([v for k, v in fish_list.items()])"
   ],
   "metadata": {
    "collapsed": false,
    "pycharm": {
     "name": "#%%\n"
    }
   }
  },
  {
   "cell_type": "code",
   "execution_count": 304,
   "outputs": [
    {
     "name": "stdout",
     "output_type": "stream",
     "text": [
      "Solution to part 1 is 360761\n",
      "Solution to part 2 is 1632779838045\n"
     ]
    }
   ],
   "source": [
    "print(f\"Solution to part 1 is {part1(num_list, 80)}\")\n",
    "print(f\"Solution to part 2 is {part1(num_list, 256)}\")"
   ],
   "metadata": {
    "collapsed": false,
    "pycharm": {
     "name": "#%%\n"
    }
   }
  }
 ],
 "metadata": {
  "kernelspec": {
   "display_name": "Python 3",
   "language": "python",
   "name": "python3"
  },
  "language_info": {
   "codemirror_mode": {
    "name": "ipython",
    "version": 2
   },
   "file_extension": ".py",
   "mimetype": "text/x-python",
   "name": "python",
   "nbconvert_exporter": "python",
   "pygments_lexer": "ipython2",
   "version": "2.7.6"
  }
 },
 "nbformat": 4,
 "nbformat_minor": 0
}