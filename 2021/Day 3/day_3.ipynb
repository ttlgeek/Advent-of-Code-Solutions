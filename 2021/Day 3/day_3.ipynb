{
 "cells": [
  {
   "cell_type": "code",
   "execution_count": 1000,
   "metadata": {
    "collapsed": true
   },
   "outputs": [],
   "source": [
    "from os import path\n",
    "\n",
    "num_list = list()\n",
    "\n",
    "with open(path.join(globals()['_dh'][0], \"input.txt\")) as f:\n",
    "    num_list = [x.strip() for x in f.readlines()]\n",
    "\n",
    "num_list_test = list()\n",
    "with open(path.join(globals()['_dh'][0], \"test.txt\")) as f:\n",
    "    num_list_test = [x.strip() for x in f.readlines()]"
   ]
  },
  {
   "cell_type": "code",
   "execution_count": 1001,
   "outputs": [],
   "source": [
    "def binary_to_decimal(binary):\n",
    "    return sum([2 ** i if binary[::-1][i] == '1' else 0 for i in range(len(binary))])"
   ],
   "metadata": {
    "collapsed": false,
    "pycharm": {
     "name": "#%%\n"
    }
   }
  },
  {
   "cell_type": "code",
   "execution_count": 1002,
   "outputs": [],
   "source": [
    "def flip_bits(bits):\n",
    "    return [''.join([b[i] for b in bits]) for i in range(len(bits[0]))]"
   ],
   "metadata": {
    "collapsed": false,
    "pycharm": {
     "name": "#%%\n"
    }
   }
  },
  {
   "cell_type": "code",
   "execution_count": 1003,
   "outputs": [],
   "source": [
    "def count_bits(bits):\n",
    "    return {i: (bits[i].count('0'), bits[i].count('1')) for i in range(len(bits))}"
   ],
   "metadata": {
    "collapsed": false,
    "pycharm": {
     "name": "#%%\n"
    }
   }
  },
  {
   "cell_type": "code",
   "execution_count": 1004,
   "outputs": [],
   "source": [
    "def most_common_bits(bits_count):\n",
    "    return [str(k.index(max(k[0], k[1]))) if k[0] != k[1] else '1' for k in bits_count.values()]"
   ],
   "metadata": {
    "collapsed": false,
    "pycharm": {
     "name": "#%%\n"
    }
   }
  },
  {
   "cell_type": "code",
   "execution_count": 1005,
   "outputs": [],
   "source": [
    "def least_common_bits(bits_count):\n",
    "    return [str(k.index(min(k[0], k[1]))) if k[0] != k[1] else '0' for k in bits_count.values()]"
   ],
   "metadata": {
    "collapsed": false,
    "pycharm": {
     "name": "#%%\n"
    }
   }
  },
  {
   "cell_type": "code",
   "execution_count": 1006,
   "outputs": [],
   "source": [
    "def has_most_common_in_bit_position(binary, most_common, position):\n",
    "    return binary[position] == most_common\n"
   ],
   "metadata": {
    "collapsed": false,
    "pycharm": {
     "name": "#%%\n"
    }
   }
  },
  {
   "cell_type": "code",
   "execution_count": 1007,
   "outputs": [],
   "source": [
    "def has_least_common_in_bit_position(binary, least_common, position):\n",
    "    return binary[position] == least_common\n"
   ],
   "metadata": {
    "collapsed": false,
    "pycharm": {
     "name": "#%%\n"
    }
   }
  },
  {
   "cell_type": "code",
   "execution_count": 1008,
   "outputs": [],
   "source": [
    "def o2_generator_rating(bits):\n",
    "    bits_copy = bits.copy()\n",
    "    position = 0\n",
    "    while len(bits_copy) > 1:\n",
    "        flipped = flip_bits(bits_copy)\n",
    "        bits_count = count_bits(flipped)\n",
    "        most_common = most_common_bits(bits_count)[position]\n",
    "\n",
    "        matching_criteria = list(\n",
    "            filter(lambda x: has_most_common_in_bit_position(x, most_common, position), bits_copy))\n",
    "        bits_copy = matching_criteria\n",
    "\n",
    "        position += 1\n",
    "\n",
    "    return bits_copy[0]"
   ],
   "metadata": {
    "collapsed": false,
    "pycharm": {
     "name": "#%%\n"
    }
   }
  },
  {
   "cell_type": "code",
   "execution_count": 1009,
   "outputs": [],
   "source": [
    "def co2_scrubber_rating(bits):\n",
    "    bits_copy = bits.copy()\n",
    "    position = 0\n",
    "    while len(bits_copy) > 1:\n",
    "        flipped = flip_bits(bits_copy)\n",
    "        bits_count = count_bits(flipped)\n",
    "        most_common = least_common_bits(bits_count)[position]\n",
    "\n",
    "        matching_criteria = list(\n",
    "            filter(lambda x: has_least_common_in_bit_position(x, most_common, position), bits_copy))\n",
    "        bits_copy = matching_criteria\n",
    "\n",
    "        position += 1\n",
    "\n",
    "    return bits_copy[0]"
   ],
   "metadata": {
    "collapsed": false,
    "pycharm": {
     "name": "#%%\n"
    }
   }
  },
  {
   "cell_type": "code",
   "execution_count": 1010,
   "outputs": [],
   "source": [
    "def part1(nums_list):\n",
    "    flipped = flip_bits(nums_list)\n",
    "    bits_count = count_bits(flipped)\n",
    "    most_common = most_common_bits(bits_count)\n",
    "    least_common = least_common_bits(bits_count)\n",
    "\n",
    "    gamma = binary_to_decimal(''.join(most_common))\n",
    "    epsilon = binary_to_decimal(''.join(least_common))\n",
    "\n",
    "    return gamma * epsilon"
   ],
   "metadata": {
    "collapsed": false,
    "pycharm": {
     "name": "#%%\n"
    }
   }
  },
  {
   "cell_type": "code",
   "execution_count": 1011,
   "outputs": [],
   "source": [
    "def part2(nums_list):\n",
    "    o2_rating = binary_to_decimal(o2_generator_rating(nums_list))\n",
    "    co2_rating = binary_to_decimal(co2_scrubber_rating(nums_list))\n",
    "\n",
    "    return o2_rating * co2_rating"
   ],
   "metadata": {
    "collapsed": false,
    "pycharm": {
     "name": "#%%\n"
    }
   }
  },
  {
   "cell_type": "code",
   "execution_count": 1012,
   "outputs": [
    {
     "name": "stdout",
     "output_type": "stream",
     "text": [
      "Solution to part 1 is 1092896\n",
      "Solution to part 2 is 4672151\n"
     ]
    }
   ],
   "source": [
    "print(f\"Solution to part 1 is {part1(num_list)}\")\n",
    "print(f\"Solution to part 2 is {part2(num_list)}\")"
   ],
   "metadata": {
    "collapsed": false,
    "pycharm": {
     "name": "#%%\n"
    }
   }
  }
 ],
 "metadata": {
  "kernelspec": {
   "display_name": "Python 3",
   "language": "python",
   "name": "python3"
  },
  "language_info": {
   "codemirror_mode": {
    "name": "ipython",
    "version": 2
   },
   "file_extension": ".py",
   "mimetype": "text/x-python",
   "name": "python",
   "nbconvert_exporter": "python",
   "pygments_lexer": "ipython2",
   "version": "2.7.6"
  }
 },
 "nbformat": 4,
 "nbformat_minor": 0
}