{
 "cells": [
  {
   "cell_type": "code",
   "execution_count": 33,
   "id": "392a92b8-cf00-4d80-b47e-199a701de62f",
   "metadata": {},
   "outputs": [],
   "source": [
    "from os import path\n",
    "\n",
    "instructions = list()\n",
    "\n",
    "with open(path.join(globals()['_dh'][0], \"input.txt\")) as f:\n",
    "    instructions = [x.strip() for x in f.readlines()]\n",
    "\n",
    "instructions_test = list()\n",
    "with open(path.join(globals()['_dh'][0], \"test.txt\")) as f:\n",
    "   instructions_test = [x.strip() for x in f.readlines()]"
   ]
  },
  {
   "cell_type": "code",
   "execution_count": 9,
   "id": "39e65762-a6fd-437e-9c86-d67a6fdd922d",
   "metadata": {},
   "outputs": [],
   "source": [
    "def parse_instruction(instruction):\n",
    "    if len(instruction.split()) > 1:\n",
    "        return 2, int(instruction.split()[1])\n",
    "    \n",
    "    return 1, 0"
   ]
  },
  {
   "cell_type": "code",
   "execution_count": 63,
   "id": "39dbb577-c89b-4601-ad80-910d1e6bc2b6",
   "metadata": {},
   "outputs": [],
   "source": [
    "def part1(input_list):\n",
    "    X = 1\n",
    "    cycle = 0\n",
    "    \n",
    "    result = 0\n",
    "    \n",
    "    for instruction in input_list:\n",
    "        cycles, dX = parse_instruction(instruction)\n",
    "        for _ in range(cycles):\n",
    "            cycle += 1\n",
    "            \n",
    "            if (cycle - 20) % 40 == 0:\n",
    "                result += cycle * X\n",
    "        \n",
    "        X += dX\n",
    "        \n",
    "    return result\n",
    "    \n",
    "    "
   ]
  },
  {
   "cell_type": "code",
   "execution_count": 112,
   "id": "33f3a3d7-9265-4e13-b9ed-0d84bc584628",
   "metadata": {},
   "outputs": [],
   "source": [
    "def get_pixel(cycle, sprite):\n",
    "    return '#' if cycle in sprite else '.'"
   ]
  },
  {
   "cell_type": "code",
   "execution_count": 153,
   "id": "86126fc1-cbdf-4042-ba79-2caab9fc69bb",
   "metadata": {},
   "outputs": [],
   "source": [
    "def part2(input_list):\n",
    "    X = 1\n",
    "    cycle = 0\n",
    "    \n",
    "    sprite = [0, 1, 2]\n",
    "    \n",
    "    lines = []\n",
    "    current_line = list()\n",
    "    \n",
    "    for instruction in input_list:\n",
    "        cycles, dX = parse_instruction(instruction)\n",
    "        \n",
    "        for _ in range(cycles):\n",
    "            pixel = get_pixel(cycle % 40, sprite)\n",
    "            current_line.append(pixel)\n",
    "            #print(cycle, current_line)\n",
    "            \n",
    "            cycle += 1\n",
    "            \n",
    "            if cycle > 0 and cycle % 40 == 0:\n",
    "                lines.append(list(current_line))\n",
    "                \n",
    "                current_line = list()\n",
    "        \n",
    "        X += dX\n",
    "        sprite = [X - 1, X, X + 1]\n",
    "        \n",
    "        #print(f\"X: {X}, sprite: {sprite}, {cycle % 40 - 1}\")\n",
    "        #print()\n",
    "    \n",
    "    for x in lines:\n",
    "        print(''.join(x))\n",
    "    "
   ]
  },
  {
   "cell_type": "code",
   "execution_count": 154,
   "id": "fc1ed939-1fc0-4a14-9e0b-0274a791e8cb",
   "metadata": {},
   "outputs": [
    {
     "name": "stdout",
     "output_type": "stream",
     "text": [
      "Solution to part 1 is 14060\n",
      "Solution to part 2 is :\n"
     ]
    },
    {
     "ename": "NameError",
     "evalue": "name 'instructions_list' is not defined",
     "output_type": "error",
     "traceback": [
      "\u001b[0;31m---------------------------------------------------------------------------\u001b[0m",
      "\u001b[0;31mNameError\u001b[0m                                 Traceback (most recent call last)",
      "Cell \u001b[0;32mIn[154], line 3\u001b[0m\n\u001b[1;32m      1\u001b[0m \u001b[38;5;28mprint\u001b[39m(\u001b[38;5;124mf\u001b[39m\u001b[38;5;124m\"\u001b[39m\u001b[38;5;124mSolution to part 1 is \u001b[39m\u001b[38;5;132;01m{\u001b[39;00mpart1(instructions)\u001b[38;5;132;01m}\u001b[39;00m\u001b[38;5;124m\"\u001b[39m)\n\u001b[1;32m      2\u001b[0m \u001b[38;5;28mprint\u001b[39m(\u001b[38;5;124mf\u001b[39m\u001b[38;5;124m\"\u001b[39m\u001b[38;5;124mSolution to part 2 is :\u001b[39m\u001b[38;5;124m\"\u001b[39m)\n\u001b[0;32m----> 3\u001b[0m \u001b[38;5;28mprint\u001b[39m(part2(\u001b[43minstructions_list\u001b[49m))\n",
      "\u001b[0;31mNameError\u001b[0m: name 'instructions_list' is not defined"
     ]
    }
   ],
   "source": [
    "print(f\"Solution to part 1 is {part1(instructions)}\")\n",
    "print(f\"Solution to part 2 is :\")\n",
    "print(part2(instructions_list))"
   ]
  }
 ],
 "metadata": {
  "kernelspec": {
   "display_name": "Python 3 (ipykernel)",
   "language": "python",
   "name": "python3"
  },
  "language_info": {
   "codemirror_mode": {
    "name": "ipython",
    "version": 3
   },
   "file_extension": ".py",
   "mimetype": "text/x-python",
   "name": "python",
   "nbconvert_exporter": "python",
   "pygments_lexer": "ipython3",
   "version": "3.11.1"
  }
 },
 "nbformat": 4,
 "nbformat_minor": 5
}
