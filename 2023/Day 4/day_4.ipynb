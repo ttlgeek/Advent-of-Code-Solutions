{
 "cells": [
  {
   "cell_type": "code",
   "execution_count": 1,
   "id": "9129d039-16d3-4cc1-86ba-3a000f1441cb",
   "metadata": {},
   "outputs": [],
   "source": [
    "from collections import defaultdict\n",
    "from itertools import groupby\n",
    "from functools import reduce\n",
    "from os import path\n",
    "import parse\n",
    "\n",
    "instructions = list()\n",
    "\n",
    "with open(path.join(globals()['_dh'][0], \"input.txt\")) as f:\n",
    "    instructions = [x.strip() for x in f.readlines()]\n",
    "\n",
    "instructions_test = list()\n",
    "with open(path.join(globals()['_dh'][0], \"test.txt\")) as f:\n",
    "    instructions_test = [x.strip() for x in f.readlines()]"
   ]
  },
  {
   "cell_type": "code",
   "execution_count": 2,
   "id": "725422bb-b24b-478e-8254-e13886e25cd2",
   "metadata": {},
   "outputs": [],
   "source": [
    "card_pattern = parse.compile(\"Card {card_number}: {winning_numbers} | {numbers_on_card}\")"
   ]
  },
  {
   "cell_type": "code",
   "execution_count": 3,
   "id": "bb3b502b-0bff-40b7-8ad2-f73fcca6673e",
   "metadata": {},
   "outputs": [],
   "source": [
    "def parse_card(line):\n",
    "    parsed = card_pattern.parse(line)\n",
    "\n",
    "    card_number = int(parsed[\"card_number\"])\n",
    "    winning_numbers = [int(c.strip()) for c in parsed[\"winning_numbers\"].split()]\n",
    "    numbers_on_card = [int(c.strip()) for c in parsed[\"numbers_on_card\"].split()]\n",
    "\n",
    "    return card_number, winning_numbers, numbers_on_card"
   ]
  },
  {
   "cell_type": "code",
   "execution_count": 4,
   "id": "8b8924e3-24f7-4717-a7cd-62172b6ad521",
   "metadata": {},
   "outputs": [],
   "source": [
    "def part1(input_list):\n",
    "    result = 0\n",
    "    \n",
    "    for line in input_list:\n",
    "        card_number, winning_numbers, numbers_on_card = parse_card(line)\n",
    "\n",
    "        winning_numbers_count = len(set(winning_numbers) & set(numbers_on_card))\n",
    "\n",
    "        result += pow(2, winning_numbers_count - 1) if winning_numbers_count > 0 else 0\n",
    "\n",
    "    return result"
   ]
  },
  {
   "cell_type": "code",
   "execution_count": 27,
   "id": "e7688484-7250-4abd-a45e-ba7120b284b8",
   "metadata": {},
   "outputs": [],
   "source": [
    "def part2(input_list):\n",
    "    cards = defaultdict(;l)\n",
    "    \n",
    "    for line in input_list:\n",
    "        card_number, winning_numbers, numbers_on_card = parse_card(line)\n",
    "\n",
    "        cards[card_number] = 1\n",
    "\n",
    "        winning_numbers_count = len(set(winning_numbers) & set(numbers_on_card))\n",
    "\n",
    "        for i in range(1, winning_numbers_count + 1):\n",
    "            print(i)\n",
    "            cards[card_number + i] += cards[card_number]\n",
    "\n",
    "        print(line)\n",
    "\n",
    "    return cards"
   ]
  },
  {
   "cell_type": "code",
   "execution_count": 28,
   "id": "7f07a9c6-f8f3-46a9-8c36-6da8d4941262",
   "metadata": {},
   "outputs": [
    {
     "name": "stdout",
     "output_type": "stream",
     "text": [
      "Solution to part 1 is : 25651\n",
      "1\n"
     ]
    },
    {
     "ename": "KeyError",
     "evalue": "2",
     "output_type": "error",
     "traceback": [
      "\u001b[0;31m---------------------------------------------------------------------------\u001b[0m",
      "\u001b[0;31mKeyError\u001b[0m                                  Traceback (most recent call last)",
      "Cell \u001b[0;32mIn[28], line 2\u001b[0m\n\u001b[1;32m      1\u001b[0m \u001b[38;5;28mprint\u001b[39m(\u001b[38;5;124mf\u001b[39m\u001b[38;5;124m\"\u001b[39m\u001b[38;5;124mSolution to part 1 is : \u001b[39m\u001b[38;5;132;01m{\u001b[39;00mpart1(instructions)\u001b[38;5;132;01m}\u001b[39;00m\u001b[38;5;124m\"\u001b[39m)\n\u001b[0;32m----> 2\u001b[0m \u001b[38;5;28mprint\u001b[39m(\u001b[38;5;124mf\u001b[39m\u001b[38;5;124m\"\u001b[39m\u001b[38;5;124mSolution to part 2 is : \u001b[39m\u001b[38;5;132;01m{\u001b[39;00m\u001b[43mpart2\u001b[49m\u001b[43m(\u001b[49m\u001b[43minstructions_test\u001b[49m\u001b[43m)\u001b[49m\u001b[38;5;132;01m}\u001b[39;00m\u001b[38;5;124m\"\u001b[39m)\n",
      "Cell \u001b[0;32mIn[27], line 13\u001b[0m, in \u001b[0;36mpart2\u001b[0;34m(input_list)\u001b[0m\n\u001b[1;32m     11\u001b[0m     \u001b[38;5;28;01mfor\u001b[39;00m i \u001b[38;5;129;01min\u001b[39;00m \u001b[38;5;28mrange\u001b[39m(\u001b[38;5;241m1\u001b[39m, winning_numbers_count \u001b[38;5;241m+\u001b[39m \u001b[38;5;241m1\u001b[39m):\n\u001b[1;32m     12\u001b[0m         \u001b[38;5;28mprint\u001b[39m(i)\n\u001b[0;32m---> 13\u001b[0m         \u001b[43mcards\u001b[49m\u001b[43m[\u001b[49m\u001b[43mcard_number\u001b[49m\u001b[43m \u001b[49m\u001b[38;5;241;43m+\u001b[39;49m\u001b[43m \u001b[49m\u001b[43mi\u001b[49m\u001b[43m]\u001b[49m \u001b[38;5;241m+\u001b[39m\u001b[38;5;241m=\u001b[39m cards[card_number]\n\u001b[1;32m     15\u001b[0m     \u001b[38;5;28mprint\u001b[39m(line)\n\u001b[1;32m     17\u001b[0m \u001b[38;5;28;01mreturn\u001b[39;00m cards\n",
      "\u001b[0;31mKeyError\u001b[0m: 2"
     ]
    }
   ],
   "source": [
    "print(f\"Solution to part 1 is : {part1(instructions)}\")\n",
    "print(f\"Solution to part 2 is : {part2(instructions_test)}\")"
   ]
  }
 ],
 "metadata": {
  "kernelspec": {
   "display_name": "Python 3 (ipykernel)",
   "language": "python",
   "name": "python3"
  },
  "language_info": {
   "codemirror_mode": {
    "name": "ipython",
    "version": 3
   },
   "file_extension": ".py",
   "mimetype": "text/x-python",
   "name": "python",
   "nbconvert_exporter": "python",
   "pygments_lexer": "ipython3",
   "version": "3.12.0"
  }
 },
 "nbformat": 4,
 "nbformat_minor": 5
}
