{
 "cells": [
  {
   "cell_type": "code",
   "execution_count": 46,
   "metadata": {},
   "outputs": [],
   "source": [
    "from os import path"
   ]
  },
  {
   "cell_type": "code",
   "execution_count": 47,
   "metadata": {},
   "outputs": [],
   "source": [
    "instruction_list = list()\n",
    "\n",
    "with open(path.join(globals()['_dh'][0], \"input.txt\")) as f:\n",
    "    instruction_list = [x.strip() for x in f.readlines()]\n",
    "\n",
    "instruction_list_test = list()\n",
    "with open(path.join(globals()['_dh'][0], \"test.txt\")) as f:\n",
    "    instruction_list_test = [x.strip() for x in f.readlines()]"
   ]
  },
  {
   "cell_type": "code",
   "execution_count": 48,
   "metadata": {},
   "outputs": [],
   "source": [
    "def get_next_list(prev_list: list, instruction: str) -> list:\n",
    "    list_len = len(prev_list) // 2\n",
    "    if instruction == 'F' or instruction == 'L':\n",
    "        return prev_list[:list_len]\n",
    "    elif instruction == 'B' or instruction == 'R':\n",
    "        return prev_list[list_len:]"
   ]
  },
  {
   "cell_type": "code",
   "execution_count": 49,
   "metadata": {},
   "outputs": [],
   "source": [
    "def get_row_number(row_instructions: str) -> int:\n",
    "    rows_range = list(range(128))\n",
    "    \n",
    "    for instruction in row_instructions:\n",
    "        rows_range = get_next_list(rows_range, instruction)\n",
    "    \n",
    "    return rows_range"
   ]
  },
  {
   "cell_type": "code",
   "execution_count": 50,
   "metadata": {},
   "outputs": [],
   "source": [
    "def get_column_number(column_instructions: str) -> int:\n",
    "    columns_range = list(range(8))\n",
    "    \n",
    "    for instruction in column_instructions:\n",
    "        columns_range = get_next_list(columns_range, instruction)\n",
    "    \n",
    "    return columns_range"
   ]
  },
  {
   "cell_type": "code",
   "execution_count": 51,
   "metadata": {},
   "outputs": [],
   "source": [
    "def part1(instruction_list: list) -> int:\n",
    "    max_seat_id = 0\n",
    "    \n",
    "    for instructions in instruction_list:\n",
    "        row_instructions = instructions[:-3]\n",
    "        row = get_row_number(row_instructions)[0]\n",
    "        \n",
    "        column_instructions = instructions[-3:]\n",
    "        column = get_column_number(column_instructions)[0]\n",
    "        \n",
    "        seat_id = row * 8 + column\n",
    "        \n",
    "        max_seat_id = max(max_seat_id, seat_id)\n",
    "    \n",
    "    return max_seat_id"
   ]
  },
  {
   "cell_type": "code",
   "execution_count": 52,
   "metadata": {},
   "outputs": [
    {
     "name": "stdout",
     "output_type": "stream",
     "text": [
      "Part 1 answer is: 901\n"
     ]
    }
   ],
   "source": [
    "print(f\"Part 1 answer is: {part1(instruction_list)}\")"
   ]
  },
  {
   "cell_type": "code",
   "execution_count": 53,
   "metadata": {},
   "outputs": [],
   "source": [
    "def part2(instruction_list: list) -> int:\n",
    "    seat_id_list = list()\n",
    "    \n",
    "    for instructions in instruction_list:\n",
    "        row_instructions = instructions[:-3]\n",
    "        row = get_row_number(row_instructions)[0]\n",
    "        \n",
    "        column_instructions = instructions[-3:]\n",
    "        column = get_column_number(column_instructions)[0]\n",
    "        \n",
    "        seat_id = row * 8 + column\n",
    "        \n",
    "        seat_id_list.append(seat_id)\n",
    "    \n",
    "    seat_id_list.sort()\n",
    "    \n",
    "    for i in range(len(seat_id_list) - 1):\n",
    "        seat_id1 = seat_id_list[i]\n",
    "        seat_id2 = seat_id_list[i + 1]\n",
    "        if seat_id2 - seat_id1 > 1:\n",
    "            return seat_id2 - 1"
   ]
  },
  {
   "cell_type": "code",
   "execution_count": 54,
   "metadata": {},
   "outputs": [
    {
     "name": "stdout",
     "output_type": "stream",
     "text": [
      "Part 2 answer is: 661\n"
     ]
    }
   ],
   "source": [
    "print(f\"Part 2 answer is: {part2(instruction_list)}\")"
   ]
  }
 ],
 "metadata": {
  "kernelspec": {
   "display_name": "Python 3",
   "language": "python",
   "name": "python3"
  },
  "language_info": {
   "codemirror_mode": {
    "name": "ipython",
    "version": 3
   },
   "file_extension": ".py",
   "mimetype": "text/x-python",
   "name": "python",
   "nbconvert_exporter": "python",
   "pygments_lexer": "ipython3",
   "version": "3.9.0"
  }
 },
 "nbformat": 4,
 "nbformat_minor": 4
}
