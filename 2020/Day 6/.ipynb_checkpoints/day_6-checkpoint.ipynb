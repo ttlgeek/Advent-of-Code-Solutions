{
 "cells": [
  {
   "cell_type": "code",
   "execution_count": 27,
   "metadata": {},
   "outputs": [],
   "source": [
    "from os import path\n",
    "from itertools import groupby\n",
    "from collections import defaultdict"
   ]
  },
  {
   "cell_type": "code",
   "execution_count": 5,
   "metadata": {},
   "outputs": [],
   "source": [
    "answer_info = list()\n",
    "\n",
    "with open(path.join(globals()['_dh'][0], \"input.txt\")) as f:\n",
    "    answer_info = [x.strip() for x in f.readlines()]\n",
    "    answer_info = list(list(info) for k,info in groupby(answer_info, key=lambda x: x != '') if k)\n",
    "\n",
    "answer_info_test = list()\n",
    "with open(path.join(globals()['_dh'][0], \"test.txt\")) as f:\n",
    "    answer_info_test = [x.strip() for x in f.readlines()]\n",
    "    answer_info_test = list(list(info) for k,info in groupby(answer_info_test, key=lambda x: x != '') if k)"
   ]
  },
  {
   "cell_type": "code",
   "execution_count": 17,
   "metadata": {},
   "outputs": [],
   "source": [
    "def part1(answer_info: list) -> int:\n",
    "    number_of_questions_answered = 0\n",
    "    for group_answers in answer_info:\n",
    "        expanded_answers = [c for x in group_answers for c in x]\n",
    "        \n",
    "        unique_answers = list(set(expanded_answers))\n",
    "\n",
    "        number_of_questions_answered += len(unique_answers)\n",
    "    \n",
    "    return number_of_questions_answered"
   ]
  },
  {
   "cell_type": "code",
   "execution_count": 20,
   "metadata": {},
   "outputs": [
    {
     "name": "stdout",
     "output_type": "stream",
     "text": [
      "Part 1 answer is: 6335\n"
     ]
    }
   ],
   "source": [
    "print(f\"Part 1 answer is: {part1(answer_info)}\")"
   ]
  },
  {
   "cell_type": "code",
   "execution_count": 30,
   "metadata": {},
   "outputs": [],
   "source": [
    "def part2(answer_info: list) -> int:\n",
    "    number_of_questions_answered = 0\n",
    "    for group_answers in answer_info:\n",
    "        expanded_answers = [c for x in group_answers for c in x]\n",
    "        \n",
    "        question_count = defaultdict(int)\n",
    "        \n",
    "        for q in expanded_answers:\n",
    "            question_count[q] += 1\n",
    "        \n",
    "        for q, c in question_count.items():\n",
    "            if c == len(group_answers):\n",
    "                number_of_questions_answered += 1\n",
    "\n",
    "    return number_of_questions_answered"
   ]
  },
  {
   "cell_type": "code",
   "execution_count": 32,
   "metadata": {},
   "outputs": [
    {
     "name": "stdout",
     "output_type": "stream",
     "text": [
      "Part 2 answer is: 3392\n"
     ]
    }
   ],
   "source": [
    "print(f\"Part 2 answer is: {part2(answer_info)}\")"
   ]
  }
 ],
 "metadata": {
  "kernelspec": {
   "display_name": "Python 3",
   "language": "python",
   "name": "python3"
  },
  "language_info": {
   "codemirror_mode": {
    "name": "ipython",
    "version": 3
   },
   "file_extension": ".py",
   "mimetype": "text/x-python",
   "name": "python",
   "nbconvert_exporter": "python",
   "pygments_lexer": "ipython3",
   "version": "3.9.0"
  }
 },
 "nbformat": 4,
 "nbformat_minor": 4
}
