{
 "cells": [
  {
   "cell_type": "code",
   "execution_count": 3,
   "id": "435173ef-563b-45bc-8b71-ed52edab4bec",
   "metadata": {},
   "outputs": [],
   "source": [
    "from os import path\n",
    "\n",
    "pairs = list()\n",
    "\n",
    "with open(path.join(globals()['_dh'][0], \"input.txt\")) as f:\n",
    "    pairs = [x.strip() for x in f.readlines()]\n",
    "\n",
    "pairs_test = list()\n",
    "with open(path.join(globals()['_dh'][0], \"test.txt\")) as f:\n",
    "   pairs_test = [x.strip() for x in f.readlines()]"
   ]
  },
  {
   "cell_type": "code",
   "execution_count": 64,
   "id": "72acf676-5bb1-4b04-a005-b81c6769c51e",
   "metadata": {},
   "outputs": [],
   "source": [
    "def is_complete_overlap(x1, y1, x2, y2):\n",
    "    return (x2 >= x1 and y2 <= y1) or (x1 >= x2 and y1 <= y2)"
   ]
  },
  {
   "cell_type": "code",
   "execution_count": 65,
   "id": "256a0a0c-5425-49dd-b33e-3a6b979d1f7a",
   "metadata": {},
   "outputs": [],
   "source": [
    "def part1(input_list):\n",
    "    result = 0\n",
    "    for pair in input_list:\n",
    "        range1, range2 = pair.split(',')\n",
    "        x1, y1 = (int(x) for x in range1.split('-'))\n",
    "        x2, y2 = (int(x) for x in range2.split('-'))\n",
    "        if is_complete_overlap(x1, y1, x2, y2): result += 1\n",
    "    \n",
    "    return result"
   ]
  },
  {
   "cell_type": "code",
   "execution_count": 80,
   "id": "03c52a11-902d-473d-b875-015bc4ce4272",
   "metadata": {},
   "outputs": [],
   "source": [
    "def is_partial_overlap(x1, y1, x2, y2):\n",
    "    return (x2 <= x1 <= y2) or (x2 <= y1 <= y2) or (x1 <= x2 <= y1) or (x1 <= y2 <= y1)"
   ]
  },
  {
   "cell_type": "code",
   "execution_count": 81,
   "id": "90191e23-c382-49b3-ac25-92d21d578d94",
   "metadata": {},
   "outputs": [],
   "source": [
    "def part2(input_list):\n",
    "    result = 0\n",
    "    for pair in input_list:\n",
    "        range1, range2 = pair.split(',')\n",
    "        x1, y1 = (int(x) for x in range1.split('-'))\n",
    "        x2, y2 = (int(x) for x in range2.split('-'))\n",
    "        if is_partial_overlap(x1, y1, x2, y2): result += 1\n",
    "    \n",
    "    return result"
   ]
  },
  {
   "cell_type": "code",
   "execution_count": 83,
   "id": "7349f198-a718-4191-aa83-6ae6e822b659",
   "metadata": {},
   "outputs": [
    {
     "name": "stdout",
     "output_type": "stream",
     "text": [
      "Solution to part 1 is 490\n",
      "Solution to part 2 is 921\n"
     ]
    }
   ],
   "source": [
    "print(f\"Solution to part 1 is {part1(pairs)}\")\n",
    "print(f\"Solution to part 2 is {part2(pairs)}\")"
   ]
  }
 ],
 "metadata": {
  "kernelspec": {
   "display_name": "Python 3 (ipykernel)",
   "language": "python",
   "name": "python3"
  },
  "language_info": {
   "codemirror_mode": {
    "name": "ipython",
    "version": 3
   },
   "file_extension": ".py",
   "mimetype": "text/x-python",
   "name": "python",
   "nbconvert_exporter": "python",
   "pygments_lexer": "ipython3",
   "version": "3.10.8"
  }
 },
 "nbformat": 4,
 "nbformat_minor": 5
}
